{
 "cells": [
  {
   "cell_type": "markdown",
   "metadata": {},
   "source": [
    "# CNYT 2019-2\n",
    "\n",
    "# Librería computación Cuántica"
   ]
  },
  {
   "cell_type": "code",
   "execution_count": 3,
   "metadata": {},
   "outputs": [],
   "source": [
    "import math"
   ]
  },
  {
   "cell_type": "markdown",
   "metadata": {},
   "source": [
    "#### Representación de un numero complejo como vector\n",
    "\n",
    "La funcion vec, recibe un numero complejo y lo devuelve en forma de vector"
   ]
  },
  {
   "cell_type": "code",
   "execution_count": 4,
   "metadata": {},
   "outputs": [],
   "source": [
    "def vec(complejo):\n",
    "    if \"+\" in complejo[1:] or \"-\" in complejo[1:] :\n",
    "        if complejo[0] == \"-\":\n",
    "            L = 1\n",
    "            oper = complejo[1:]\n",
    "        else:\n",
    "            L = 0\n",
    "            oper = complejo[:]\n",
    "        for letra in oper:\n",
    "            if letra == \"+\" or letra == \"-\":\n",
    "                a1 = complejo[:L]\n",
    "                b1 = complejo[L:]\n",
    "                b1 = b1[1:-1]\n",
    "                if b1 == '':\n",
    "                    b1 = 1\n",
    "                \n",
    "                if letra == \"-\":\n",
    "                    r = [round(float(a1), 2),-round(float(b1), 2)]\n",
    "                else:\n",
    "                    r = [round(float(a1), 2),round(float(b1), 2)]\n",
    "            L += 1\n",
    "            \n",
    "    else:\n",
    "        if \"i\" in complejo:\n",
    "            if complejo == \"i\" or complejo == \"-i\":\n",
    "                if complejo == \"i\":\n",
    "                    r = [0, 1]\n",
    "                else:\n",
    "                    r = [0,-1]\n",
    "            else:\n",
    "                r = [0, round(float(complejo[:-1]), 2)]\n",
    "        else:\n",
    "            r = [round(float(complejo), 2), 0]\n",
    "    return r\n",
    "\n"
   ]
  },
  {
   "cell_type": "markdown",
   "metadata": {},
   "source": [
    "#### Representación de un numero complejo como vector\n",
    "\n",
    "La funcion compl, recibe un vector y lo devuelve en forma de numero complejo"
   ]
  },
  {
   "cell_type": "code",
   "execution_count": 5,
   "metadata": {},
   "outputs": [],
   "source": [
    "def compl(v):\n",
    "    if v[0] != 0 and v[1] != 0:\n",
    "        if v[1] < 0:\n",
    "            r = str(v[0]) + \" \" + str(v[1]) +\"i\"\n",
    "        else:\n",
    "            r = str(v[0]) + \" + \" + str(v[1]) +\"i\"\n",
    "    elif v[0] == 0 and v[1] != 0:\n",
    "        r = str(v[1]) + \"i\"\n",
    "    elif v[0] != 0 and v[1] == 0:\n",
    "        r =  str(v[0])\n",
    "    elif v[0] == 0 and v[1] == 0:\n",
    "        r = str(0)\n",
    "    return r\n"
   ]
  },
  {
   "cell_type": "markdown",
   "metadata": {},
   "source": [
    "## Números complejos"
   ]
  },
  {
   "cell_type": "markdown",
   "metadata": {},
   "source": [
    "### 1.1 Suma\n",
    "\n",
    "A continuación se encuentra la fución sum, cuyo fin es sumar un número complejo m1 (de componente a1 y b1) y un número complejo m2(de componente a2 y b2).\n",
    "\n",
    "#### Pruebas.\n",
    "Con calculadora Wolfram:\n",
    "![alt text](Suma.png \"Logo Title Text 1\")\n",
    "Con calculadora complejos:\n",
    "![alt text](suma1.png \"Logo Title Text 1\")\n"
   ]
  },
  {
   "cell_type": "code",
   "execution_count": 6,
   "metadata": {},
   "outputs": [
    {
     "name": "stdout",
     "output_type": "stream",
     "text": [
      "El resultado de la suma de [4, 5]+[6, 5] es igual a: [10, 10]\n"
     ]
    }
   ],
   "source": [
    "def main1():\n",
    "    a1 = 4\n",
    "    b1 = 5\n",
    "    a2 = 6\n",
    "    b2 = 5\n",
    "    m1 = [a1, b1]\n",
    "    m2 = [a2, b2]\n",
    "    print(\"El resultado de la suma de \" + str(m1) + \"+\" + str(m2) + \" es igual a: \" + str(sum(m1, m2)))\n",
    "\n",
    "def sum(m1, m2):\n",
    "    r1 = m1[0] + m2[0]\n",
    "    r2 = m1[1] + m2[1]\n",
    "    r = [r1, r2]\n",
    "    return r\n",
    "\n",
    "main1()"
   ]
  },
  {
   "cell_type": "markdown",
   "metadata": {},
   "source": [
    "### 1.2 Producto\n",
    "\n",
    "A continuación se encuentra la fución prod, cuyo fin es multiplicar un número complejo m1 (de componente a1 y b1) y un número complejo m2(de componente a2 y b2)\n",
    "#### Pruebas.\n",
    "Con calculadora Wolfram:\n",
    "![alt text](mult.png \"Logo Title Text 1\")\n",
    "Con calculadora complejos:\n",
    "![alt text](mult1.png \"Logo Title Text 1\")"
   ]
  },
  {
   "cell_type": "code",
   "execution_count": 7,
   "metadata": {},
   "outputs": [
    {
     "name": "stdout",
     "output_type": "stream",
     "text": [
      "El resultado del producto entre [9, 8]*[4, 8] es igual a: [-28, 104]\n"
     ]
    }
   ],
   "source": [
    "def main2():\n",
    "    a1 = 9\n",
    "    b1 = 8\n",
    "    a2 = 4\n",
    "    b2 = 8\n",
    "    m1 = [a1, b1]\n",
    "    m2 = [a2, b2]\n",
    "    print(\"El resultado del producto entre \"+ str(m1) + \"*\" + str(m2) + \" es igual a: \" +  str(prod(m1, m2)))\n",
    "\n",
    "def prod(m1, m2):\n",
    "    r1 = m1[0] * m2[0] - m1[1] * m2[1]\n",
    "    r2 = m1[0] * m2[1] + m2[0] * m1[1]\n",
    "    r = [r1, r2]\n",
    "    return r\n",
    "\n",
    "main2()"
   ]
  },
  {
   "cell_type": "markdown",
   "metadata": {},
   "source": [
    "### 1.3 Resta\n",
    "\n",
    "A continuación se encuentra la fución subt, cuyo fin es restar un número complejo m1 (de componente a1 y b1) de un número complejo m2(de componente a2 y b2)\n",
    "#### Pruebas.\n",
    "Con calculadora Wolfram:\n",
    "![alt text](resta.png \"Logo Title Text 1\")\n",
    "Con calculadora complejos:\n",
    "![alt text](resta1.png \"Logo Title Text 1\")"
   ]
  },
  {
   "cell_type": "code",
   "execution_count": 8,
   "metadata": {},
   "outputs": [
    {
     "name": "stdout",
     "output_type": "stream",
     "text": [
      "el resultado de la resta entre [6, -8] y [-9, 10] es igual a: [15, -18]\n"
     ]
    }
   ],
   "source": [
    "def main3():\n",
    "    a1 = 6\n",
    "    b1 = -8\n",
    "    a2 = -9\n",
    "    b2 = 10\n",
    "    m1 = [a1, b1]\n",
    "    m2 = [a2, b2]\n",
    "    r = subt(m1, m2)\n",
    "    print(\"el resultado de la resta entre \" + str(m1) + \" y \" + str(m2) + \" es igual a: \"+ str(r))\n",
    "\n",
    "def subt(m1, m2):\n",
    "    r1 = m1[0] - m2[0]\n",
    "    r2 = m1[1] - m2[1]\n",
    "    r = [r1, r2]\n",
    "    return r\n",
    "\n",
    "main3()"
   ]
  },
  {
   "cell_type": "markdown",
   "metadata": {},
   "source": [
    "### 1.4 Division\n",
    "\n",
    "A continuación se encuentra la fución div, cuyo fin es dividir un número complejo m1 (de componente a1 y b1) entre un número complejo m2(de componente a2 y b2)\n",
    "#### Pruebas.\n",
    "Con calculadora Wolfram:\n",
    "![alt text](div.png \"Logo Title Text 1\")\n",
    "Con calculadora complejos:\n",
    "![alt text](div1.png \"Logo Title Text 1\")"
   ]
  },
  {
   "cell_type": "code",
   "execution_count": 9,
   "metadata": {},
   "outputs": [
    {
     "name": "stdout",
     "output_type": "stream",
     "text": [
      "El resultado de la división entre [0, 3] y [-1, -1] es igual a: [-1.5, -1.5]\n"
     ]
    }
   ],
   "source": [
    "def main4():\n",
    "    a1 = 0\n",
    "    b1 = 3\n",
    "    a2 = -1\n",
    "    b2 = -1\n",
    "    m1 = [a1, b1]\n",
    "    m2 = [a2, b2]\n",
    "    r = div(m1, m2)\n",
    "    print(\"El resultado de la división entre \"+ str(m1) + \" y \" + str(m2)+  \" es igual a: \" + str(r))\n",
    "\n",
    "def div(m1 ,m2):\n",
    "    div1 = m1[0] * m2[0] + m1[1] * m2[1]\n",
    "    div2 = m2[0] * m1[1] - m1[0] * m2[1]\n",
    "    divi = m2[0] ** 2 + m2[1] ** 2\n",
    "    if divi != 0:\n",
    "        r = [round(div1/divi, 2), round(div2/divi, 2)]\n",
    "        return r\n",
    "    else:\n",
    "        r = \"La división no es posible\"\n",
    "        return r\n",
    "\n",
    "main4()"
   ]
  },
  {
   "cell_type": "markdown",
   "metadata": {},
   "source": [
    "### 1.5 Módulo\n",
    "\n",
    "A continuación se encuentra la fución modul, cuyo fin es calcular el módulo de un número complejo (de componentes a1 y b1)\n",
    "#### Pruebas.\n",
    "Con calculadora Wolfram:\n",
    "![alt text](modul.png \"Logo Title Text 1\")\n",
    "Con calculadora complejos:\n",
    "![alt text](modul1.png \"Logo Title Text 1\")"
   ]
  },
  {
   "cell_type": "code",
   "execution_count": 10,
   "metadata": {},
   "outputs": [
    {
     "name": "stdout",
     "output_type": "stream",
     "text": [
      "El modulo de [4, -4] es igual a: 5.66\n"
     ]
    }
   ],
   "source": [
    "def main5():\n",
    "    a1 = 4\n",
    "    b1 = -4\n",
    "    print(\"El modulo de \" + str([a1, b1])+ \" es igual a: \" + str(modul(a1, b1)))\n",
    "\n",
    "def modul(a1, b1):\n",
    "    r1 = math.sqrt(a1 ** 2 + b1 ** 2)\n",
    "    r = round(r1,2)\n",
    "    return r\n",
    "\n",
    "main5()"
   ]
  },
  {
   "cell_type": "markdown",
   "metadata": {},
   "source": [
    "### 1.6 Conjugado\n",
    "\n",
    "A continuación se encuentra la fución conj, cuyo fin es calcular el conjugado de un número complejo (de componentes a1 y b1)\n",
    "#### Pruebas.\n",
    "Con calculadora Wolfram:\n",
    "![alt text](conj.png \"Logo Title Text 1\")\n",
    "Con calculadora complejos:\n",
    "![alt text](conj1.png \"Logo Title Text 1\")"
   ]
  },
  {
   "cell_type": "code",
   "execution_count": 11,
   "metadata": {},
   "outputs": [
    {
     "name": "stdout",
     "output_type": "stream",
     "text": [
      "El conjugado de [3, 2] es igual a: [3, -2]\n"
     ]
    }
   ],
   "source": [
    "def main6():\n",
    "    a1 = 3\n",
    "    b1 = 2\n",
    "    print(\"El conjugado de \" + str([a1, b1])+ \" es igual a: \"  + str(conj(a1, b1)))\n",
    "\n",
    "def conj(a1, b1):\n",
    "    r1 = -b1\n",
    "    r = [a1, r1]\n",
    "    return r\n",
    "\n",
    "main6()"
   ]
  },
  {
   "cell_type": "markdown",
   "metadata": {},
   "source": [
    "### 1.7.1 Conversión cartesiano a polar\n",
    "\n",
    "A continuación se encuentra la fución pol, cuyo fin es convertir una representación cartesiana (de componentes a y b) a polar\n",
    "#### Pruebas.\n",
    "Con calculadora Wolfram:\n",
    "![alt text](cart.png \"Logo Title Text 1\")\n",
    "Con calculadora complejos:\n",
    "![alt text](cart1.png \"Logo Title Text 1\")"
   ]
  },
  {
   "cell_type": "code",
   "execution_count": 12,
   "metadata": {},
   "outputs": [
    {
     "name": "stdout",
     "output_type": "stream",
     "text": [
      "La representación polar del cartesiano [8, 9] (con θ en grados) es igual a [12.0416, 48.3665]\n"
     ]
    }
   ],
   "source": [
    "def main7():\n",
    "    a = 8\n",
    "    b = 9\n",
    "    print(\"La representación polar del cartesiano \"+ str([a, b])+ \" (con θ en grados) es igual a \"+ str(pol(a, b)))\n",
    "    \n",
    "\n",
    "\n",
    "def pol(a, b):\n",
    "    p1 = math.sqrt(a ** 2 + b ** 2)\n",
    "    p = round(p1, 4)\n",
    "    if a >= 0 and b >= 0:\n",
    "        if a == 0:\n",
    "            t = 90\n",
    "        else:\n",
    "            t = (math.atan(b/a) * 180)/math.pi\n",
    "    elif a <= 0 and b >= 0:\n",
    "        t = 180 + (math.atan(b/a) * 180)/math.pi \n",
    "    elif a <= 0 and b <= 0:\n",
    "        if a == 0:\n",
    "            t = 270\n",
    "        else:\n",
    "            t = (math.atan(b/a) * 180)/math.pi + 180\n",
    "    elif a > 0 and b <= 0:\n",
    "        t = (math.atan(b/a) * 180)/math.pi + 360\n",
    "    t1 = round(t, 4)\n",
    "    r = [p, t1]\n",
    "    return r\n",
    "\n",
    "main7()"
   ]
  },
  {
   "cell_type": "markdown",
   "metadata": {},
   "source": [
    "### 1.7.1 Conversión polar a cartesiana\n",
    "\n",
    "A continuación se encuentra la fución cart, cuyo fin es convertir una representación polar (de componentes r y t(con t en grados)) a cartesiana\n",
    "#### Pruebas.\n",
    "Con calculadora Casio:\n",
    "![alt text](polar.png \"Logo Title Text 1\")\n",
    "Con calculadora complejos:\n",
    "![alt text](polar1.png \"Logo Title Text 1\")"
   ]
  },
  {
   "cell_type": "code",
   "execution_count": 13,
   "metadata": {},
   "outputs": [
    {
     "name": "stdout",
     "output_type": "stream",
     "text": [
      "La representación catesiana del polar (3,60) es igual a: (1.5,2.5981)\n"
     ]
    }
   ],
   "source": [
    "def main8():\n",
    "    r = 3\n",
    "    t = 60\n",
    "    resp = cart(r, t)\n",
    "    print(\"La representación catesiana del polar \" + \"(\" + str(r) + \",\" + str(t) + \")\" + \" es igual a: \"+ \"(\" + str(resp[0]) + \",\" + str(resp[1]) + \")\" )\n",
    "\n",
    "def cart(r, t):\n",
    "    rad = (t * math.pi)/180\n",
    "    a = r * math.cos(rad)\n",
    "    b = r * math.sin(rad)\n",
    "    return [round(a, 4), round(b, 4)]\n",
    "\n",
    "main8()\n",
    "    "
   ]
  },
  {
   "cell_type": "markdown",
   "metadata": {},
   "source": [
    "## Operaciones para vectores, matrices"
   ]
  },
  {
   "cell_type": "markdown",
   "metadata": {},
   "source": [
    "### 2.1 Adición de vectores complejos\n",
    "\n",
    "Dado dos vectores v1 y v2, a traves de la función Sum_V(que recibe V1 y V2), obtenemos como resultado la suma de estos dos vectores\n",
    "#### Pruebas.\n",
    "Pruebas minimas:\n",
    "![alt text](2.1.jpg \"Logo Title Text 1\")\n",
    "Con calculadora complejos:\n",
    "![alt text](adicion1.jpg \"Logo Title Text 1\")"
   ]
  },
  {
   "cell_type": "code",
   "execution_count": 14,
   "metadata": {},
   "outputs": [
    {
     "name": "stdout",
     "output_type": "stream",
     "text": [
      "Vector complejo 1\n",
      "Ingrese el numero de filas del vector 1 = 0\n",
      "\n",
      "Vector complejo 2\n",
      "Ingrese el numero de filas del vector 2 = 0\n",
      "\n",
      "///////////////////////////////\n",
      "////El vector resultante es////:\n",
      "///////////////////////////////\n",
      "\n"
     ]
    }
   ],
   "source": [
    "def main9():\n",
    "    print(\"Vector complejo 1\")\n",
    "    V_1 = [] \n",
    "    No_filas_1 = int(input(\"Ingrese el numero de filas del vector 1 = \"))\n",
    "    for x in range(No_filas_1):\n",
    "        comp_1 = input(\"Ingrese el valor para la posición (en forma de número complejo) \" + str(x + 1) + \" = \")\n",
    "        comp1 = vec(comp_1)\n",
    "        V_1.append(comp1)\n",
    "    print(\"\")\n",
    "    print(\"Vector complejo 2\")\n",
    "    V_2 = [] \n",
    "    No_filas_2 = int(input(\"Ingrese el numero de filas del vector 2 = \"))\n",
    "    for x in range(No_filas_1):\n",
    "        comp_2 = input(\"Ingrese el valor para la posición (en forma de número complejo) \" + str(x + 1) + \" = \")\n",
    "        comp2 = vec(comp_2)\n",
    "        V_2.append(comp2)\n",
    "    r = Sum_V(V_1, V_2)\n",
    "    if r != \"La suma no es posible\":\n",
    "        print(\"\")\n",
    "        print(\"///////////////////////////////\")\n",
    "        print(\"////El vector resultante es////:\")\n",
    "        print(\"///////////////////////////////\")\n",
    "        print(\"\")\n",
    "        for x in r:\n",
    "            print(x)\n",
    "    else:\n",
    "        print(r)\n",
    "\n",
    "def Sum_V(V1, V2):\n",
    "    if V1 == [] and V2 == []:\n",
    "        r = []\n",
    "        return r\n",
    "    else:\n",
    "        x1 = len(V1)\n",
    "        x2 = len(V2)\n",
    "        if x1 == x2:\n",
    "            V_r = []\n",
    "            for x in range(x1):\n",
    "                suma = sum(V1[x], V2[x])\n",
    "                V_r.append(compl(suma))\n",
    "            return V_r\n",
    "            \n",
    "                \n",
    "        else:\n",
    "            r = \"La suma no es posible\"\n",
    "            return r\n",
    "    \n",
    "        \n",
    "main9()"
   ]
  },
  {
   "cell_type": "markdown",
   "metadata": {},
   "source": [
    "## 2.2 Inverso aditivo de vector complejo\n",
    "\n",
    "A continuación se encuentra la función inv, que recibe un vector complejo V, y devuelve su inverso aditivo\n",
    "#### Pruebas.\n",
    "Pruebas minimas:\n",
    "![alt text](2.2.jpg \"Logo Title Text 1\")\n",
    "Con calculadora complejos:\n",
    "![alt text](inver1.jpg \"Logo Title Text 1\")"
   ]
  },
  {
   "cell_type": "code",
   "execution_count": 15,
   "metadata": {},
   "outputs": [
    {
     "name": "stdout",
     "output_type": "stream",
     "text": [
      "Vector complejo 1\n",
      "Ingrese el numero de filas del vector 1 = 0\n",
      "\n",
      "La iversa resultante es: \n"
     ]
    }
   ],
   "source": [
    "def main10():\n",
    "    print(\"Vector complejo 1\")\n",
    "    V_1 = [] \n",
    "    No_filas_1 = int(input(\"Ingrese el numero de filas del vector 1 = \"))\n",
    "    for x in range(No_filas_1):\n",
    "        comp_1 = input(\"Ingrese el valor para la posición (en forma de número complejo) \" + str(x + 1) + \" = \")\n",
    "        comp1 = vec(comp_1)\n",
    "        V_1.append(comp1)\n",
    "    r = inv(V_1)\n",
    "    print(\"\")\n",
    "    print(\"La iversa resultante es: \")\n",
    "    for i in r:\n",
    "        print(i)\n",
    "\n",
    "def inv(V):\n",
    "    V_r = []\n",
    "    for i in V:\n",
    "        V_r.append(compl([-i[0], -i[1]]))\n",
    "    return V_r\n",
    "        \n",
    "\n",
    "\n",
    "main10()"
   ]
  },
  {
   "cell_type": "markdown",
   "metadata": {},
   "source": [
    "## 2.3 Multiplicación de un escalar por un vector complejo\n",
    "\n",
    "A continuación se encuentra la función Mult_V, que recibe un escalar c, y un vector complejo V, y devuelve su resultado\n",
    "#### Pruebas.\n",
    "Pruebas minimas:\n",
    "![alt text](2.3.jpg \"Logo Title Text 1\")\n",
    "Con calculadora complejos:\n",
    "![alt text](escv.jpg \"Logo Title Text 1\")"
   ]
  },
  {
   "cell_type": "code",
   "execution_count": 17,
   "metadata": {},
   "outputs": [
    {
     "name": "stdout",
     "output_type": "stream",
     "text": [
      "Ingrese el valor del escalar0\n",
      "\n",
      "Vector complejo 1\n",
      "Ingrese el numero de filas del vector 1 = 0\n"
     ]
    }
   ],
   "source": [
    "def main11():\n",
    "    c = input(\"Ingrese el valor del escalar\")\n",
    "    print(\"\")\n",
    "    print(\"Vector complejo 1\")\n",
    "    V_1 = [] \n",
    "    No_filas_1 = int(input(\"Ingrese el numero de filas del vector 1 = \"))\n",
    "    for x in range(No_filas_1):\n",
    "        comp_1 = input(\"Ingrese el valor para la posición (en forma de número complejo) \" + str(x + 1) + \" = \")\n",
    "        comp1 = vec(comp_1)\n",
    "        V_1.append(comp1)\n",
    "    r = Mult_V(vec(c), V_1)\n",
    "    for i in r:\n",
    "        print(i)\n",
    "\n",
    "def Mult_V(c, V):\n",
    "    V_r = []\n",
    "    for i in V:\n",
    "        V_r.append(compl(prod(c, i)))\n",
    "    return V_r\n",
    "        \n",
    "main11()  "
   ]
  },
  {
   "cell_type": "markdown",
   "metadata": {},
   "source": [
    "### 2.4 Adición de matrices complejos\n",
    "\n",
    "A continuación se encuentra la función Sum_M, que recibe dos matrices M1 y M2, y devuelve su suma\n",
    "#### Pruebas.\n",
    "Pruebas minimas:\n",
    "![alt text](2.4.jpg \"Logo Title Text 1\")\n",
    "Con calculadora complejos:\n",
    "![alt text](adicionm1.jpg \"Logo Title Text 1\")"
   ]
  },
  {
   "cell_type": "code",
   "execution_count": 18,
   "metadata": {},
   "outputs": [
    {
     "name": "stdout",
     "output_type": "stream",
     "text": [
      "Matriz 1\n",
      "Ingrese el número de filas de la matriz 1 = 0\n",
      "Ingrese el número de columnas de la matriz 1 = 0\n",
      "\n",
      "Matriz 2\n",
      "Ingrese el número de filas de la matriz 2 = 0\n",
      "Ingrese el número de columnas de la matriz 2 = 0\n",
      "\n",
      "///////////////////////////////\n",
      "////La matriz resultante es////:\n",
      "///////////////////////////////\n",
      "\n"
     ]
    }
   ],
   "source": [
    "def main12():\n",
    "    print(\"Matriz 1\")\n",
    "    Matriz_1 = [] \n",
    "    No_filas_1 = int(input(\"Ingrese el número de filas de la matriz 1 = \"))\n",
    "    No_columnas_1 = int(input(\"Ingrese el número de columnas de la matriz 1 = \"))\n",
    "    for x in range(No_filas_1):\n",
    "        Matriz_1.append([])\n",
    "        for y in range(No_columnas_1):\n",
    "            comp = input(\"Ingrese el valor para la posición (en forma de número complejo) \" + str(x + 1) + str(y + 1) + \" = \")\n",
    "            comp1 = vec(comp)\n",
    "            Matriz_1[x].append(comp1)\n",
    "    \n",
    "    print(\"\")\n",
    "    print(\"Matriz 2\")\n",
    "    Matriz_2 = [] \n",
    "    No_filas_2 = int(input(\"Ingrese el número de filas de la matriz 2 = \"))\n",
    "    No_columnas_2 = int(input(\"Ingrese el número de columnas de la matriz 2 = \"))\n",
    "    for x in range(No_filas_2):\n",
    "        Matriz_2.append([])\n",
    "        for y in range(No_columnas_2):\n",
    "            comp = input(\"Ingrese el valor para la posición (en forma de número complejo) \" + str(x + 1) + str(y + 1) + \" = \")\n",
    "            comp1 = vec(comp)\n",
    "            Matriz_2[x].append(comp1)\n",
    "    \n",
    "    r = Sum_M(Matriz_1, Matriz_2)\n",
    "    if r != \"La suma no es posible\":\n",
    "        print(\"\")\n",
    "        print(\"///////////////////////////////\")\n",
    "        print(\"////La matriz resultante es////:\")\n",
    "        print(\"///////////////////////////////\")\n",
    "        print(\"\")\n",
    "        for x in r:\n",
    "            print(x)\n",
    "    else:\n",
    "        print(r)\n",
    "    \n",
    "    \n",
    "def Sum_M(M1, M2):\n",
    "    if M1 == [] and M2 == []:\n",
    "        r = []\n",
    "        return r\n",
    "    else:\n",
    "        x1 = len(M1)\n",
    "        x2 = len(M2)\n",
    "        y1 = len(M1[0])\n",
    "        y2 = len(M2[0])\n",
    "        if x1 == x2:\n",
    "            if y1 == y2:\n",
    "                Matriz_r = []\n",
    "                for x in range(x1):\n",
    "                    Matriz_r.append([])\n",
    "                    for y in range(y1):\n",
    "                        suma = sum(M1[x][y], M2[x][y])\n",
    "                        Matriz_r[x].append(compl(suma))\n",
    "                return Matriz_r\n",
    "        else:\n",
    "            r = \"La suma no es posible\"\n",
    "            return r\n",
    "                \n",
    "            \n",
    "    \n",
    "main12()"
   ]
  },
  {
   "cell_type": "markdown",
   "metadata": {},
   "source": [
    "## 2.5 Inverso aditivo de matriz compleja\n",
    "\n",
    "A continuación se encuentra la función Inv_M, que recibe una matriz compleja M, y devuelve su inversa\n",
    "#### Pruebas.\n",
    "Pruebas minimas:\n",
    "![alt text](2.5.jpg \"Logo Title Text 1\")\n",
    "Con calculadora complejos:\n",
    "![alt text](invm1.jpg \"Logo Title Text 1\")"
   ]
  },
  {
   "cell_type": "code",
   "execution_count": 19,
   "metadata": {},
   "outputs": [
    {
     "name": "stdout",
     "output_type": "stream",
     "text": [
      "Matriz 1\n",
      "Ingrese el número de filas de la matriz 1 = 0\n",
      "Ingrese el número de columnas de la matriz 1 = 0\n",
      "\n",
      "La inversa de la matriz es: \n"
     ]
    }
   ],
   "source": [
    "def main13():\n",
    "    print(\"Matriz 1\")\n",
    "    Matriz_1 = [] \n",
    "    No_filas_1 = int(input(\"Ingrese el número de filas de la matriz 1 = \"))\n",
    "    No_columnas_1 = int(input(\"Ingrese el número de columnas de la matriz 1 = \"))\n",
    "    for x in range(No_filas_1):\n",
    "        Matriz_1.append([])\n",
    "        for y in range(No_columnas_1):\n",
    "            comp = input(\"Ingrese el valor para la posición (en forma de número complejo) \" + str(x + 1) + str(y + 1) + \" = \")\n",
    "            comp1 = vec(comp)\n",
    "            Matriz_1[x].append(comp1)\n",
    "    r = Inv_M(Matriz_1)\n",
    "    print(\"\")\n",
    "    print(\"La inversa de la matriz es: \")\n",
    "    for i in r:\n",
    "        print(i)\n",
    "    \n",
    "def Inv_M(M):\n",
    "    M_r = []\n",
    "    if M == []:\n",
    "        return []\n",
    "    else:\n",
    "        x = len(M)\n",
    "        y = len(M[0])\n",
    "        for i in range(x):\n",
    "            M_r.append([])\n",
    "            for j in range(y):\n",
    "                inv = [-M[i][j][0], -M[i][j][1]] \n",
    "                M_r[i].append(compl(inv))\n",
    "        return M_r\n",
    "main13()\n",
    "                "
   ]
  },
  {
   "cell_type": "markdown",
   "metadata": {},
   "source": [
    "### 2.6 Multiplicación de escalar por matriz compleja\n",
    "\n",
    "A continuación se encuentra la función mult_cM, que multiplica un escalar c con una matriz M, y devuelve su resultado \n",
    "#### Pruebas.\n",
    "Pruebas minimas:\n",
    "![alt text](2.6.jpg \"Logo Title Text 1\")\n",
    "Con calculadora complejos:\n",
    "![alt text](multem1.jpg \"Logo Title Text 1\")"
   ]
  },
  {
   "cell_type": "code",
   "execution_count": 20,
   "metadata": {
    "scrolled": true
   },
   "outputs": [
    {
     "name": "stdout",
     "output_type": "stream",
     "text": [
      "Ingrese el número complejo0\n",
      "\n",
      "Matriz 1\n",
      "Ingrese el número de filas de la matriz 1 = 0\n",
      "Ingrese el número de columnas de la matriz 1 = 0\n",
      "\n",
      "El resultado es: \n"
     ]
    }
   ],
   "source": [
    "def main14():\n",
    "    c = input(\"Ingrese el número complejo\")\n",
    "    print(\"\")\n",
    "    print(\"Matriz 1\")\n",
    "    Matriz_1 = [] \n",
    "    No_filas_1 = int(input(\"Ingrese el número de filas de la matriz 1 = \"))\n",
    "    No_columnas_1 = int(input(\"Ingrese el número de columnas de la matriz 1 = \"))\n",
    "    for x in range(No_filas_1):\n",
    "        Matriz_1.append([])\n",
    "        for y in range(No_columnas_1):\n",
    "            comp = input(\"Ingrese el valor para la posición (en forma de número complejo) \" + str(x + 1) + str(y + 1) + \" = \")\n",
    "            comp1 = vec(comp)\n",
    "            Matriz_1[x].append(comp1)\n",
    "    r = mult_cM(vec(c), Matriz_1)\n",
    "    print(\"\")\n",
    "    print(\"El resultado es: \")\n",
    "    for i in r:\n",
    "        print(i)\n",
    "def mult_cM(c, M):\n",
    "    M_r = []\n",
    "    if M == []:\n",
    "        return []\n",
    "    else:\n",
    "        x = len(M)\n",
    "        y = len(M[0])\n",
    "        for i in range(x):\n",
    "            M_r.append([])\n",
    "            for j in range(y):\n",
    "                m = prod(c, M[i][j]) \n",
    "                M_r[i].append(compl(m))\n",
    "        return M_r\n",
    "main14()\n",
    "    "
   ]
  },
  {
   "cell_type": "markdown",
   "metadata": {},
   "source": [
    "### 2.7 Tanspuesta de matriz compleja\n",
    "\n",
    "A continuación se encuentra la función tran_M, que recibe una matriz M y devuelve su transpuesta\n",
    "#### Pruebas.\n",
    "Pruebas minimas:\n",
    "![alt text](2.7.jpg \"Logo Title Text 1\")\n",
    "Con calculadora complejos:\n",
    "![alt text](tran1.jpg \"Logo Title Text 1\")"
   ]
  },
  {
   "cell_type": "code",
   "execution_count": 21,
   "metadata": {},
   "outputs": [
    {
     "name": "stdout",
     "output_type": "stream",
     "text": [
      "Matriz 1\n",
      "Ingrese el número de filas de la matriz 1 = 0\n",
      "Ingrese el número de columnas de la matriz 1 = 0\n",
      "\n",
      "El resultado es: \n"
     ]
    }
   ],
   "source": [
    "def main15():\n",
    "    print(\"Matriz 1\")\n",
    "    Matriz_1 = [] \n",
    "    No_filas_1 = int(input(\"Ingrese el número de filas de la matriz 1 = \"))\n",
    "    No_columnas_1 = int(input(\"Ingrese el número de columnas de la matriz 1 = \"))\n",
    "    for x in range(No_filas_1):\n",
    "        Matriz_1.append([])\n",
    "        for y in range(No_columnas_1):\n",
    "            comp = input(\"Ingrese el valor para la posición (en forma de número complejo) \" + str(x + 1) + str(y + 1) + \" = \")\n",
    "            comp1 = vec(comp)\n",
    "            Matriz_1[x].append(comp1)\n",
    "    r = tran_M(Matriz_1)\n",
    "    print(\"\")\n",
    "    print(\"El resultado es: \")\n",
    "    for i in r:\n",
    "        print(i)\n",
    "\n",
    "def tran_M(M):\n",
    "    M_r = []\n",
    "    if M == []:\n",
    "        return []\n",
    "    else:\n",
    "        x = len(M)\n",
    "        y = len(M[0])\n",
    "        for j in range(y):\n",
    "            M_r.append([])\n",
    "            for i in range(x):\n",
    "                M_r[j].append(compl(M[i][j]))\n",
    "        return M_r\n",
    "main15()"
   ]
  },
  {
   "cell_type": "markdown",
   "metadata": {},
   "source": [
    "### 2.8 conjugada de matriz compleja\n",
    "\n",
    "A continuación se encuentra la función conj_M, que recibe una matriz M y devuelve su conjugada\n",
    "#### Pruebas.\n",
    "Pruebas minimas:\n",
    "![alt text](2.8.jpg \"Logo Title Text 1\")\n",
    "Con calculadora complejos:\n",
    "![alt text](conj1.jpg \"Logo Title Text 1\")"
   ]
  },
  {
   "cell_type": "code",
   "execution_count": 22,
   "metadata": {},
   "outputs": [
    {
     "name": "stdout",
     "output_type": "stream",
     "text": [
      "Matriz 1\n",
      "Ingrese el número de filas de la matriz 1 = 0\n",
      "Ingrese el número de columnas de la matriz 1 = 0\n",
      "\n",
      "El resultado es: \n"
     ]
    }
   ],
   "source": [
    "def main16():\n",
    "    print(\"Matriz 1\")\n",
    "    Matriz_1 = [] \n",
    "    No_filas_1 = int(input(\"Ingrese el número de filas de la matriz 1 = \"))\n",
    "    No_columnas_1 = int(input(\"Ingrese el número de columnas de la matriz 1 = \"))\n",
    "    for x in range(No_filas_1):\n",
    "        Matriz_1.append([])\n",
    "        for y in range(No_columnas_1):\n",
    "            comp = input(\"Ingrese el valor para la posición (en forma de número complejo) \" + str(x + 1) + str(y + 1) + \" = \")\n",
    "            comp1 = vec(comp)\n",
    "            Matriz_1[x].append(comp1)\n",
    "    r = conj_M(Matriz_1)\n",
    "    print(\"\")\n",
    "    print(\"El resultado es: \")\n",
    "    for i in r:\n",
    "        print(i)\n",
    "\n",
    "def conj_M(M):\n",
    "    M_r = []\n",
    "    if M == []:\n",
    "        return []\n",
    "    else:\n",
    "        x = len(M)\n",
    "        y = len(M[0])\n",
    "        for i in range(x):\n",
    "            M_r.append([])\n",
    "            for j in range(y):\n",
    "                conj = [M[i][j][0], -M[i][j][1]] \n",
    "                M_r[i].append(compl(conj))\n",
    "        return M_r\n",
    "main16()\n",
    "    "
   ]
  },
  {
   "cell_type": "markdown",
   "metadata": {},
   "source": [
    "### 2.9 Adjunto (daga) de una matriz compleja\n",
    "\n",
    "A continuación se encuentra la función daga_M, que recibe una matriz M y devuelve su daga\n",
    "#### Pruebas.\n",
    "Pruebas minimas:\n",
    "![alt text](2.9.jpg \"Logo Title Text 1\")\n",
    "Con calculadora complejos:\n",
    "![alt text](daga1.jpg \"Logo Title Text 1\")"
   ]
  },
  {
   "cell_type": "code",
   "execution_count": 23,
   "metadata": {},
   "outputs": [
    {
     "name": "stdout",
     "output_type": "stream",
     "text": [
      "Matriz 1\n",
      "Ingrese el número de filas de la matriz 1 = 0\n",
      "Ingrese el número de columnas de la matriz 1 = 0\n",
      "\n",
      "El resultado es: \n"
     ]
    }
   ],
   "source": [
    "def main17():\n",
    "    print(\"Matriz 1\")\n",
    "    Matriz_1 = [] \n",
    "    No_filas_1 = int(input(\"Ingrese el número de filas de la matriz 1 = \"))\n",
    "    No_columnas_1 = int(input(\"Ingrese el número de columnas de la matriz 1 = \"))\n",
    "    for x in range(No_filas_1):\n",
    "        Matriz_1.append([])\n",
    "        for y in range(No_columnas_1):\n",
    "            comp = input(\"Ingrese el valor para la posición (en forma de número complejo) \" + str(x + 1) + str(y + 1) + \" = \")\n",
    "            comp1 = vec(comp)\n",
    "            Matriz_1[x].append(comp1)\n",
    "    r = daga_M(Matriz_1)\n",
    "    print(\"\")\n",
    "    print(\"El resultado es: \")\n",
    "    for i in r:\n",
    "        print(i)\n",
    "def daga_M(M):\n",
    "    M_r = []\n",
    "    if M == []:\n",
    "        return []\n",
    "    else:\n",
    "        x = len(M)\n",
    "        y = len(M[0])\n",
    "        for j in range(y):\n",
    "            M_r.append([])\n",
    "            for i in range(x):\n",
    "                daga = [M[i][j][0], -M[i][j][1]]\n",
    "                M_r[j].append(compl(daga))\n",
    "        return M_r\n",
    "main17()\n",
    "    "
   ]
  },
  {
   "cell_type": "markdown",
   "metadata": {},
   "source": [
    "### 2.10 Multiplicación de matrices complejas\n",
    "\n",
    "A continuación se encuentra la función Mult_M, que recibe dos matrices M1 y M2 y retorna una matiz resultado de su multiplicación\n",
    "#### Pruebas.\n",
    "Pruebas minimas:\n",
    "![alt text](2.10.jpg \"Logo Title Text 1\")\n",
    "Con calculadora complejos:\n",
    "![alt text](multm1.jpg \"Logo Title Text 1\")\n",
    "![alt text](multm2.jpg \"Logo Title Text 1\")"
   ]
  },
  {
   "cell_type": "code",
   "execution_count": 24,
   "metadata": {},
   "outputs": [
    {
     "name": "stdout",
     "output_type": "stream",
     "text": [
      "Matriz 1\n",
      "Ingrese el número de filas de la matriz 1 = 0\n",
      "Ingrese el número de columnas de la matriz 1 = 0\n",
      "\n",
      "Matriz 2\n",
      "Ingrese el número de filas de la matriz 2 = 0\n",
      "Ingrese el número de columnas de la matriz 2 = 0\n",
      "\n",
      "///////////////////////////////\n",
      "////La matriz resultante es////:\n",
      "///////////////////////////////\n",
      "\n"
     ]
    }
   ],
   "source": [
    "def main19():\n",
    "    print(\"Matriz 1\")\n",
    "    Matriz_1 = [] \n",
    "    No_filas_1 = int(input(\"Ingrese el número de filas de la matriz 1 = \"))\n",
    "    No_columnas_1 = int(input(\"Ingrese el número de columnas de la matriz 1 = \"))\n",
    "    for x in range(No_filas_1):\n",
    "        Matriz_1.append([])\n",
    "        for y in range(No_columnas_1):\n",
    "            comp = input(\"Ingrese el valor para la posición (en forma de número complejo) \" + str(x + 1) + str(y + 1) + \" = \")\n",
    "            comp1 = vec(comp)\n",
    "            Matriz_1[x].append(comp1)\n",
    "    \n",
    "    print(\"\")\n",
    "    print(\"Matriz 2\")\n",
    "    Matriz_2 = [] \n",
    "    No_filas_2 = int(input(\"Ingrese el número de filas de la matriz 2 = \"))\n",
    "    No_columnas_2 = int(input(\"Ingrese el número de columnas de la matriz 2 = \"))\n",
    "    for x in range(No_filas_2):\n",
    "        Matriz_2.append([])\n",
    "        for y in range(No_columnas_2):\n",
    "            comp = input(\"Ingrese el valor para la posición (en forma de número complejo) \" + str(x + 1) + str(y + 1) + \" = \")\n",
    "            comp1 = vec(comp)\n",
    "            Matriz_2[x].append(comp1)\n",
    "    \n",
    "    r = Mult_M(Matriz_1, Matriz_2)\n",
    "    if r != \"La multiplicación no es posible\":\n",
    "        print(\"\")\n",
    "        print(\"///////////////////////////////\")\n",
    "        print(\"////La matriz resultante es////:\")\n",
    "        print(\"///////////////////////////////\")\n",
    "        print(\"\")\n",
    "        for x in r:\n",
    "            print(x)\n",
    "    else:\n",
    "        print(r)\n",
    "\n",
    "def Mult_M(M1, M2):\n",
    "    if M1 == [] and M2 == []:\n",
    "        r = []\n",
    "        return r\n",
    "    else:\n",
    "        x1 = len(M1)\n",
    "        x2 = len(M2)\n",
    "        y1 = len(M1[0])\n",
    "        y2 = len(M2[0])\n",
    "        print(x1,y1,x2,y2)\n",
    "        if y1 == x2:\n",
    "            rep = []\n",
    "            for i in range(x1):\n",
    "                rep.append([])\n",
    "                for x in range(y2):\n",
    "                    s = [0, 0]\n",
    "                    pos = 0\n",
    "                    for v in range(y1):\n",
    "                        r = prod(M1[i][v], M2[pos][x])\n",
    "                        r = [round(r[0], 1), round(r[1], 1)]\n",
    "                        s = sum(s, r)\n",
    "                        pos = pos + 1 \n",
    "                    rep[i].append(compl(s))\n",
    "            return rep\n",
    "                \n",
    "        else:\n",
    "            r = \"La multiplicación no es posible\"\n",
    "            return r\n",
    "main19()\n",
    "    \n",
    "    "
   ]
  },
  {
   "cell_type": "markdown",
   "metadata": {},
   "source": [
    "### 2.11 Acción de matriz compleja sobre vector complejo\n",
    "\n",
    "A continuación se encuentra la función Mult_MV, que recibe una matriz M1 y un vector V1, y devuelve su multiplicación \n",
    "#### Pruebas.\n",
    "Pruebas minimas:\n",
    "![alt text](2.11.jpg \"Logo Title Text 1\")\n",
    "Con calculadora complejos:\n",
    "![alt text](multmv.jpg \"Logo Title Text 1\")"
   ]
  },
  {
   "cell_type": "code",
   "execution_count": 25,
   "metadata": {},
   "outputs": [
    {
     "name": "stdout",
     "output_type": "stream",
     "text": [
      "Matriz 1\n",
      "Ingrese el número de filas de la matriz 1 = 0\n",
      "Ingrese el número de columnas de la matriz 1 = 0\n",
      "Vector complejo 1\n",
      "Ingrese el numero de filas del vector 1 = 0\n",
      "\n",
      "///////////////////////////////\n",
      "////La matriz resultante es////:\n",
      "///////////////////////////////\n",
      "\n"
     ]
    }
   ],
   "source": [
    "def main20():\n",
    "    print(\"Matriz 1\")\n",
    "    Matriz_1 = [] \n",
    "    No_filas_1 = int(input(\"Ingrese el número de filas de la matriz 1 = \"))\n",
    "    No_columnas_1 = int(input(\"Ingrese el número de columnas de la matriz 1 = \"))\n",
    "    for x in range(No_filas_1):\n",
    "        Matriz_1.append([])\n",
    "        for y in range(No_columnas_1):\n",
    "            comp = input(\"Ingrese el valor para la posición (en forma de número complejo) \" + str(x + 1) + str(y + 1) + \" = \")\n",
    "            comp1 = vec(comp)\n",
    "            Matriz_1[x].append(comp1)\n",
    "    print(\"Vector complejo 1\")\n",
    "    V_1 = [] \n",
    "    No_filas_1 = int(input(\"Ingrese el numero de filas del vector 1 = \"))\n",
    "    for x in range(No_filas_1):\n",
    "        comp_1 = input(\"Ingrese el valor para la posición (en forma de número complejo) \" + str(x + 1) + \" = \")\n",
    "        comp1 = vec(comp_1)\n",
    "        V_1.append(comp1)\n",
    "    r = Mult_MV(Matriz_1, V_1)\n",
    "    if r != \"La multiplicación no es posible\":\n",
    "        print(\"\")\n",
    "        print(\"///////////////////////////////\")\n",
    "        print(\"////La matriz resultante es////:\")\n",
    "        print(\"///////////////////////////////\")\n",
    "        print(\"\")\n",
    "        for x in r:\n",
    "            print(x)\n",
    "    else:\n",
    "        print(r)\n",
    "\n",
    "def Mult_MV(M1, M2):\n",
    "    if M1 == [] and M2 == []:\n",
    "        r = []\n",
    "        return r\n",
    "    else:\n",
    "        x1 = len(M1)\n",
    "        x2 = len(M2)\n",
    "        y1 = len(M1[0])\n",
    "        y2 = len(M2[0])\n",
    "        print(x1,y1,x2,y2)\n",
    "        if y1 == x2:\n",
    "            rep = []\n",
    "            for i in range(x1):\n",
    "                rep.append([])\n",
    "                for x in range(1):\n",
    "                    s = [0, 0]\n",
    "                    pos = 0\n",
    "                    for v in range(y1):\n",
    "                        r = prod(M1[i][v], M2[pos])\n",
    "                        r = [round(r[0], 1), round(r[1], 1)]\n",
    "                        s = sum(s, r)\n",
    "                        pos = pos + 1 \n",
    "                    rep[i].append(compl(s))\n",
    "            return rep\n",
    "                \n",
    "        else:\n",
    "            r = \"La multiplicación no es posible\"\n",
    "            return r\n",
    "main20()"
   ]
  },
  {
   "cell_type": "markdown",
   "metadata": {},
   "source": [
    "### 2.12 Producto interno de vectores complejos\n",
    "\n",
    "A continuación se encuentra la función Mult_Md, que recibe dos vectores complejos M1 y M2, y devuelve su producto interno \n",
    "#### Pruebas.\n",
    "Pruebas minimas:\n",
    "![alt text](2.12.jpg \"Logo Title Text 1\")\n",
    "Con calculadora complejos:\n",
    "![alt text](2.12.1.jpg \"Logo Title Text 1\")"
   ]
  },
  {
   "cell_type": "code",
   "execution_count": 26,
   "metadata": {},
   "outputs": [
    {
     "name": "stdout",
     "output_type": "stream",
     "text": [
      "Vector complejo 1\n",
      "Ingrese el numero de filas del vector 1 = 0\n",
      "\n",
      "Vector complejo 2\n",
      "Ingrese el numero de filas del vector 2 = 0\n",
      "\n",
      "///////////////////////////////\n",
      "///El producto resultante es///:\n",
      "///////////////////////////////\n",
      "\n"
     ]
    }
   ],
   "source": [
    "def main21():\n",
    "    print(\"Vector complejo 1\")\n",
    "    V_1 = [] \n",
    "    No_filas_1 = int(input(\"Ingrese el numero de filas del vector 1 = \"))\n",
    "    for x in range(No_filas_1):\n",
    "        comp_1 = input(\"Ingrese el valor para la posición (en forma de número complejo) \" + str(x + 1) + \" = \")\n",
    "        comp1 = vec(comp_1)\n",
    "        V_1.append(comp1)\n",
    "    print(\"\")\n",
    "    print(\"Vector complejo 2\")\n",
    "    V_2 = [] \n",
    "    No_filas_2 = int(input(\"Ingrese el numero de filas del vector 2 = \"))\n",
    "    for x in range(No_filas_1):\n",
    "        comp_2 = input(\"Ingrese el valor para la posición (en forma de número complejo) \" + str(x + 1) + \" = \")\n",
    "        comp2 = vec(comp_2)\n",
    "        V_2.append(comp2)\n",
    "    r = Mult_Md(V_1, V_2)\n",
    "    if r != \"La multiplicación no es posible\":\n",
    "        print(\"\")\n",
    "        print(\"///////////////////////////////\")\n",
    "        print(\"///El producto resultante es///:\")\n",
    "        print(\"///////////////////////////////\")\n",
    "        print(\"\")\n",
    "        for x in r:\n",
    "            print(x)\n",
    "    else:\n",
    "        print(r)\n",
    "\n",
    "def Mult_Md(M1, M2):\n",
    "    if M1 == [] and M2 == []:\n",
    "        r = []\n",
    "        return r\n",
    "    else:\n",
    "        x1 = len(M1)\n",
    "        x2 = len(M2)\n",
    "        y1 = 1\n",
    "        y2 = 1\n",
    "        M_r = []\n",
    "        for k in range(y1):\n",
    "            for h in range(x1):\n",
    "                daga = [M1[h][0], -M1[h][1]]\n",
    "                M_r.append(daga)\n",
    "        M1 = M_r[:]\n",
    "        x1 = 1\n",
    "        y1 = len(M1)\n",
    "        if y1 == x2:\n",
    "            rep = []\n",
    "            for i in range(x1):\n",
    "                rep.append([])\n",
    "                for x in range(1):\n",
    "                    s = [0, 0]\n",
    "                    pos = 0\n",
    "                    for v in range(y1):\n",
    "                        print(M1[v], M2[pos])\n",
    "                        r = prod(M1[v], M2[pos])\n",
    "                        r = [round(r[0], 1), round(r[1], 1)]\n",
    "                        s = sum(s, r)\n",
    "                        pos = pos + 1 \n",
    "                    rep[i].append(compl(s))\n",
    "            return rep\n",
    "                \n",
    "        else:\n",
    "            r = \"La multiplicación no es posible\"\n",
    "            return r\n",
    "main21()"
   ]
  },
  {
   "cell_type": "markdown",
   "metadata": {},
   "source": [
    "### 2.13 Norma de vector complejo\n",
    "\n",
    "A continuación se encuentra la función norma, que recibe un vector V1, y devuelve su norma \n",
    "#### Pruebas.\n",
    "Pruebas minimas:\n",
    "![alt text](2.13.jpg \"Logo Title Text 1\")\n",
    "Con calculadora complejos:\n",
    "![alt text](2.13.1.jpg \"Logo Title Text 1\")"
   ]
  },
  {
   "cell_type": "code",
   "execution_count": 27,
   "metadata": {},
   "outputs": [
    {
     "name": "stdout",
     "output_type": "stream",
     "text": [
      "Vector complejo 1\n",
      "Ingrese el numero de filas del vector 1 = 0\n",
      "El resultado es: 0.0\n"
     ]
    }
   ],
   "source": [
    "def main22():\n",
    "    print(\"Vector complejo 1\")\n",
    "    V_1 = [] \n",
    "    No_filas_1 = int(input(\"Ingrese el numero de filas del vector 1 = \"))\n",
    "    for x in range(No_filas_1):\n",
    "        comp_1 = input(\"Ingrese el valor para la posición (en forma de número complejo) \" + str(x + 1) + \" = \")\n",
    "        comp1 = vec(comp_1)\n",
    "        V_1.append(comp1)\n",
    "    r = norma(V_1)\n",
    "    print(\"El resultado es: \" + str(r))\n",
    "def norma(V):\n",
    "    suma = 0\n",
    "    for i in V:\n",
    "        s = math.sqrt(i[0]**2 + i[1]**2)\n",
    "        suma += s**2\n",
    "    r = math.sqrt(suma)\n",
    "    return r\n",
    "main22()\n",
    "        "
   ]
  },
  {
   "cell_type": "markdown",
   "metadata": {},
   "source": [
    "### 2.14 Distancia entre dos vectores complejos\n",
    "\n",
    "A continuación se encuentra la función dis_V, que recibe dos vectores complejos v1 y v2, y devuelve la distancia entre ellos \n",
    "#### Pruebas.\n",
    "Pruebas minimas:\n",
    "![alt text](2.14.jpg \"Logo Title Text 1\")\n",
    "Con calculadora complejos:\n",
    "![alt text](2.14.1.jpg \"Logo Title Text 1\")\n",
    "![alt text](2.14.2.jpg \"Logo Title Text 1\")"
   ]
  },
  {
   "cell_type": "code",
   "execution_count": 29,
   "metadata": {
    "scrolled": true
   },
   "outputs": [
    {
     "name": "stdout",
     "output_type": "stream",
     "text": [
      "Vector complejo 1\n",
      "Ingrese el numero de filas del vector 1 = 0\n",
      "\n",
      "Vector complejo 2\n",
      "Ingrese el numero de filas del vector 2 = 0\n",
      "El resultado es: 0.0\n"
     ]
    }
   ],
   "source": [
    "def main23():\n",
    "    print(\"Vector complejo 1\")\n",
    "    V_1 = [] \n",
    "    No_filas_1 = int(input(\"Ingrese el numero de filas del vector 1 = \"))\n",
    "    for x in range(No_filas_1):\n",
    "        comp_1 = input(\"Ingrese el valor para la posición (en forma de número complejo) \" + str(x + 1) + \" = \")\n",
    "        comp1 = vec(comp_1)\n",
    "        V_1.append(comp1)\n",
    "    print(\"\")\n",
    "    print(\"Vector complejo 2\")\n",
    "    V_2 = [] \n",
    "    No_filas_2 = int(input(\"Ingrese el numero de filas del vector 2 = \"))\n",
    "    for x in range(No_filas_1):\n",
    "        comp_2 = input(\"Ingrese el valor para la posición (en forma de número complejo) \" + str(x + 1) + \" = \")\n",
    "        comp2 = vec(comp_2)\n",
    "        V_2.append(comp2)\n",
    "    r = dis_V(V_1, V_2)\n",
    "    print(\"El resultado es: \" + str(r))\n",
    "\n",
    "def dis_V(v1, v2):\n",
    "    if len(v1) == len(v2):\n",
    "        suma = 0\n",
    "        for i in range(len(v1)):\n",
    "            s = (v1[i][0]-v2[i][0])**2 + (v1[i][1]-v2[i][1])**2\n",
    "            suma += s\n",
    "        r = math.sqrt(suma)\n",
    "        return round(r, 2)\n",
    "    else:\n",
    "        r = \"No es posible calcular\"\n",
    "        return r\n",
    "main23()"
   ]
  },
  {
   "cell_type": "markdown",
   "metadata": {},
   "source": [
    "### 2.15 ¿Es la matriz compleja una matriz unitaria?\n",
    "\n",
    "A continuación se encuentra la función M_u, que recibe una matriz M1, y determina si es una matriz unitaria o no\n",
    "#### Pruebas.\n",
    "Pruebas minimas:\n",
    "![alt text](2.15.jpg \"Logo Title Text 1\")\n",
    "Con calculadora complejos:\n",
    "![alt text](2.15.1.jpg \"Logo Title Text 1\")\n",
    "![alt text](2.15.2.jpg \"Logo Title Text 1\")"
   ]
  },
  {
   "cell_type": "code",
   "execution_count": 31,
   "metadata": {},
   "outputs": [
    {
     "name": "stdout",
     "output_type": "stream",
     "text": [
      "Matriz 1\n",
      "Ingrese el número de filas de la matriz 1 = 0\n",
      "Ingrese el número de columnas de la matriz 1 = 0\n",
      "\n",
      "False\n"
     ]
    }
   ],
   "source": [
    "def main24():\n",
    "    print(\"Matriz 1\")\n",
    "    Matriz_1 = [] \n",
    "    No_filas_1 = int(input(\"Ingrese el número de filas de la matriz 1 = \"))\n",
    "    No_columnas_1 = int(input(\"Ingrese el número de columnas de la matriz 1 = \"))\n",
    "    for x in range(No_filas_1):\n",
    "        Matriz_1.append([])\n",
    "        for y in range(No_columnas_1):\n",
    "            comp = input(\"Ingrese el valor para la posición (en forma de número complejo) \" + str(x + 1) + str(y + 1) + \" = \")\n",
    "            comp1 = vec(comp)\n",
    "            Matriz_1[x].append(comp1)\n",
    "    r = M_u(Matriz_1)\n",
    "    print(\"\")\n",
    "    print(r)\n",
    "\n",
    "def M_u(M1):\n",
    "    if M1 == []:\n",
    "        r = []\n",
    "        return False\n",
    "    else:\n",
    "        x1 = len(M1)\n",
    "        y1 = len(M1[0])\n",
    "        if y1 == x1:\n",
    "            r = Mult_M(M1, M1)\n",
    "            zero = 0\n",
    "            one = 0\n",
    "            for i in range(x1):\n",
    "                for x in range(y1):\n",
    "                    if r[i][x] == \"0\":\n",
    "                        zero += 1\n",
    "                    elif r[i][x] == \"1.0i\":\n",
    "                        one += 1\n",
    "            if zero == x1**2 - x1 and one == x1:\n",
    "                return True\n",
    "            else:\n",
    "                return False\n",
    "        else:\n",
    "            return False\n",
    "main24()"
   ]
  },
  {
   "attachments": {},
   "cell_type": "markdown",
   "metadata": {},
   "source": [
    "### 2.16 ¿Es la matriz compleja una matriz hermitiana?\n",
    "\n",
    "A continuación se encuentra la función M_h, que recibe una matriz M1, y determina si es una matriz hermitiana o no\n",
    "#### Pruebas.\n",
    "Pruebas minimas:\n",
    "![alt text](2.16.jpg \"Logo Title Text 1\")\n",
    "Con calculadora complejos:\n",
    "![alt text](2.16.1.jpg \"Logo Title Text 1\")\n",
    "![alt text](2.16.2.jpg \"Logo Title Text 1\")"
   ]
  },
  {
   "cell_type": "code",
   "execution_count": 39,
   "metadata": {},
   "outputs": [
    {
     "name": "stdout",
     "output_type": "stream",
     "text": [
      "Matriz 1\n",
      "Ingrese el número de filas de la matriz 1 = 2\n",
      "Ingrese el número de columnas de la matriz 1 = 2\n",
      "Ingrese el valor para la posición (en forma de número complejo) 11 = 1\n",
      "Ingrese el valor para la posición (en forma de número complejo) 12 = 3-i\n",
      "Ingrese el valor para la posición (en forma de número complejo) 21 = 3+i\n",
      "Ingrese el valor para la posición (en forma de número complejo) 22 = i\n",
      "\n",
      "False\n"
     ]
    }
   ],
   "source": [
    "def main25():\n",
    "    print(\"Matriz 1\")\n",
    "    Matriz_1 = [] \n",
    "    No_filas_1 = int(input(\"Ingrese el número de filas de la matriz 1 = \"))\n",
    "    No_columnas_1 = int(input(\"Ingrese el número de columnas de la matriz 1 = \"))\n",
    "    for x in range(No_filas_1):\n",
    "        Matriz_1.append([])\n",
    "        for y in range(No_columnas_1):\n",
    "            comp = input(\"Ingrese el valor para la posición (en forma de número complejo) \" + str(x + 1) + str(y + 1) + \" = \")\n",
    "            comp1 = vec(comp)\n",
    "            Matriz_1[x].append(comp1)\n",
    "    r = M_h(Matriz_1)\n",
    "    print(\"\")\n",
    "    print(r)\n",
    "def M_h(M1):\n",
    "    Md = daga_M(M1)\n",
    "    for i in range(len(Md)):\n",
    "        for y in range(len(Md)):\n",
    "            Md[i][y] = vec(Md[i][y]) \n",
    "    if M1 == Md:\n",
    "        return True\n",
    "    else:\n",
    "        return False\n",
    "main25()"
   ]
  },
  {
   "cell_type": "markdown",
   "metadata": {},
   "source": [
    "### 2.17 Producto tensorial de matrices complejas\n",
    "\n",
    "A continuación se encuentra la función prod_Mc, que recibe dos matrices M1 y M2 y retorna una matiz resultado de su producro tensorial\n",
    "#### Pruebas.\n",
    "Pruebas minimas:\n",
    "![alt text](2.17.jpg \"Logo Title Text 1\")\n",
    "Con calculadora complejos:\n",
    "![alt text](2.17.1.jpg \"Logo Title Text 1\")"
   ]
  },
  {
   "cell_type": "code",
   "execution_count": 40,
   "metadata": {},
   "outputs": [
    {
     "name": "stdout",
     "output_type": "stream",
     "text": [
      "Matriz 1\n",
      "Ingrese el número de filas de la matriz 1 = 2\n",
      "Ingrese el número de columnas de la matriz 1 = 2\n",
      "Ingrese el valor para la posición (en forma de número complejo) 11 = 1+i\n",
      "Ingrese el valor para la posición (en forma de número complejo) 12 = 0\n",
      "Ingrese el valor para la posición (en forma de número complejo) 21 = 1\n",
      "Ingrese el valor para la posición (en forma de número complejo) 22 = i\n",
      "\n",
      "Matriz 2\n",
      "Ingrese el número de filas de la matriz 2 = 3\n",
      "Ingrese el número de columnas de la matriz 2 = 3\n",
      "Ingrese el valor para la posición (en forma de número complejo) 11 = -1+2i\n",
      "Ingrese el valor para la posición (en forma de número complejo) 12 = -2-2i\n",
      "Ingrese el valor para la posición (en forma de número complejo) 13 = 2i\n",
      "Ingrese el valor para la posición (en forma de número complejo) 21 = 2+3i\n",
      "Ingrese el valor para la posición (en forma de número complejo) 22 = 3+i\n",
      "Ingrese el valor para la posición (en forma de número complejo) 23 = 2+2i\n",
      "Ingrese el valor para la posición (en forma de número complejo) 31 = -2+i\n",
      "Ingrese el valor para la posición (en forma de número complejo) 32 = 1-i\n",
      "Ingrese el valor para la posición (en forma de número complejo) 33 = 2+i\n",
      "\n",
      "///////////////////////////////\n",
      "////La matriz resultante es////:\n",
      "///////////////////////////////\n",
      "\n",
      "['-3.0 + 1.0i', '-4.0i', '-2.0 + 2.0i', '0', '0', '0']\n",
      "['-1.0 + 5.0i', '2.0 + 4.0i', '4.0i', '0', '0', '0']\n",
      "['-3.0 -1.0i', '2.0', '1.0 + 3.0i', '0', '0', '0']\n",
      "['-1.0 + 2.0i', '-2.0 -2.0i', '2.0i', '-2.0 -1.0i', '2.0 -2.0i', '-2.0']\n",
      "['2.0 + 3.0i', '3.0 + 1.0i', '2.0 + 2.0i', '-3.0 + 2.0i', '-1.0 + 3.0i', '-2.0 + 2.0i']\n",
      "['-2.0 + 1.0i', '1.0 -1.0i', '2.0 + 1.0i', '-1.0 -2.0i', '1.0 + 1.0i', '-1.0 + 2.0i']\n"
     ]
    }
   ],
   "source": [
    "def main26():\n",
    "    print(\"Matriz 1\")\n",
    "    Matriz_1 = [] \n",
    "    No_filas_1 = int(input(\"Ingrese el número de filas de la matriz 1 = \"))\n",
    "    No_columnas_1 = int(input(\"Ingrese el número de columnas de la matriz 1 = \"))\n",
    "    for x in range(No_filas_1):\n",
    "        Matriz_1.append([])\n",
    "        for y in range(No_columnas_1):\n",
    "            comp = input(\"Ingrese el valor para la posición (en forma de número complejo) \" + str(x + 1) + str(y + 1) + \" = \")\n",
    "            comp1 = vec(comp)\n",
    "            Matriz_1[x].append(comp1)\n",
    "    \n",
    "    print(\"\")\n",
    "    print(\"Matriz 2\")\n",
    "    Matriz_2 = [] \n",
    "    No_filas_2 = int(input(\"Ingrese el número de filas de la matriz 2 = \"))\n",
    "    No_columnas_2 = int(input(\"Ingrese el número de columnas de la matriz 2 = \"))\n",
    "    for x in range(No_filas_2):\n",
    "        Matriz_2.append([])\n",
    "        for y in range(No_columnas_2):\n",
    "            comp = input(\"Ingrese el valor para la posición (en forma de número complejo) \" + str(x + 1) + str(y + 1) + \" = \")\n",
    "            comp1 = vec(comp)\n",
    "            Matriz_2[x].append(comp1)\n",
    "    \n",
    "    r = prod_Mc(Matriz_1, Matriz_2)\n",
    "    if r != \"No es posible\":\n",
    "        print(\"\")\n",
    "        print(\"///////////////////////////////\")\n",
    "        print(\"////La matriz resultante es////:\")\n",
    "        print(\"///////////////////////////////\")\n",
    "        print(\"\")\n",
    "        for x in r:\n",
    "            print(x)\n",
    "    else:\n",
    "        print(r)\n",
    "def prod_Mc(M1, M2):\n",
    "    M_r = []\n",
    "    if len(M1) != 0 and len(M2) != 0:\n",
    "        m = len(M1)\n",
    "        n = len(M1[0])\n",
    "        p = len(M2)\n",
    "        q = len(M2[0])\n",
    "        for x in range(m*p):\n",
    "            M_r.append([])\n",
    "            for y in range(n*q):\n",
    "                M_r[x].append(0)\n",
    "        for i in range(len(M_r)):\n",
    "            for j in range(len(M_r[0])):\n",
    "                M_r[i][j] = compl(prod(M1[i//p][j//q], M2[i%p][j%q]))\n",
    "        return M_r\n",
    "    else:\n",
    "        return \"No es posible\"\n",
    "\n",
    "main26()\n",
    "        \n"
   ]
  },
  {
   "cell_type": "code",
   "execution_count": null,
   "metadata": {},
   "outputs": [],
   "source": []
  }
 ],
 "metadata": {
  "kernelspec": {
   "display_name": "Python 3",
   "language": "python",
   "name": "python3"
  },
  "language_info": {
   "codemirror_mode": {
    "name": "ipython",
    "version": 3
   },
   "file_extension": ".py",
   "mimetype": "text/x-python",
   "name": "python",
   "nbconvert_exporter": "python",
   "pygments_lexer": "ipython3",
   "version": "3.7.3"
  }
 },
 "nbformat": 4,
 "nbformat_minor": 2
}
