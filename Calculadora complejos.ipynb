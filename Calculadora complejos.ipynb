{
 "cells": [
  {
   "cell_type": "markdown",
   "metadata": {},
   "source": [
    "# CNYT 2019-2\n",
    "\n",
    "# Librería computación Cuántica"
   ]
  },
  {
   "cell_type": "code",
   "execution_count": 2,
   "metadata": {},
   "outputs": [],
   "source": [
    "import math"
   ]
  },
  {
   "cell_type": "markdown",
   "metadata": {},
   "source": [
    "#### Representación de un numero complejo como vector\n",
    "\n",
    "La funcion vec, recibe un numero complejo y lo devuelve en forma de vector"
   ]
  },
  {
   "cell_type": "code",
   "execution_count": 3,
   "metadata": {},
   "outputs": [],
   "source": [
    "def vec(complejo):\n",
    "    if \"+\" in complejo[1:] or \"-\" in complejo[1:] :\n",
    "        if complejo[0] == \"-\":\n",
    "            L = 1\n",
    "            oper = complejo[1:]\n",
    "        else:\n",
    "            L = 0\n",
    "            oper = complejo[:]\n",
    "        for letra in oper:\n",
    "            if letra == \"+\" or letra == \"-\":\n",
    "                a1 = complejo[:L]\n",
    "                b1 = complejo[L:]\n",
    "                b1 = b1[1:-1]\n",
    "                if b1 == '':\n",
    "                    b1 = 1\n",
    "                \n",
    "                if letra == \"-\":\n",
    "                    r = [int(a1),-int(b1)]\n",
    "                else:\n",
    "                    r = [int(a1),int(b1)]\n",
    "            L += 1\n",
    "            \n",
    "    else:\n",
    "        if \"i\" in complejo:\n",
    "            if complejo == \"i\" or complejo == \"-i\":\n",
    "                if complejo == \"i\":\n",
    "                    r = [0, 1]\n",
    "                else:\n",
    "                    r = [0,-1]\n",
    "            else:\n",
    "                r = [0, int(complejo[:-1])]\n",
    "        else:\n",
    "            r = [int(complejo), 0]\n",
    "    return r\n",
    "\n"
   ]
  },
  {
   "cell_type": "markdown",
   "metadata": {},
   "source": [
    "#### Representación de un numero complejo como vector\n",
    "\n",
    "La funcion compl, recibe un vector y lo devuelve en forma de numero complejo"
   ]
  },
  {
   "cell_type": "code",
   "execution_count": 4,
   "metadata": {},
   "outputs": [],
   "source": [
    "def compl(v):\n",
    "    if v[0] != 0 and v[1] != 0:\n",
    "        if v[1] < 0:\n",
    "            r = str(v[0]) + str(v[1]) +\"i\"\n",
    "        else:\n",
    "            r = str(v[0]) + \"+\" + str(v[1]) +\"i\"\n",
    "    elif v[0] == 0 and v[1] != 0:\n",
    "        r = str(v[1]) + \"i\"\n",
    "    elif v[0] != 0 and v[1] == 0:\n",
    "        r =  str(v[0])\n",
    "    elif v[0] == 0 and v[1] == 0:\n",
    "        r = str(0)\n",
    "    return r\n"
   ]
  },
  {
   "cell_type": "markdown",
   "metadata": {},
   "source": [
    "## Números complejos"
   ]
  },
  {
   "cell_type": "markdown",
   "metadata": {},
   "source": [
    "### 1.1 Suma\n",
    "\n",
    "A continuación se encuentra la fución sum, cuyo fin es sumar un número complejo m1 (de componente a1 y b1) y un número complejo m2(de componente a2 y b2)"
   ]
  },
  {
   "cell_type": "code",
   "execution_count": 31,
   "metadata": {},
   "outputs": [
    {
     "name": "stdout",
     "output_type": "stream",
     "text": [
      "El resultado de la suma es: [-1, -3]\n"
     ]
    }
   ],
   "source": [
    "def main1():\n",
    "    a1 = -3\n",
    "    b1 = 1\n",
    "    a2 = 2\n",
    "    b2 = -4\n",
    "    m1 = [a1, b1]\n",
    "    m2 = [a2, b2]\n",
    "    print(\"El resultado de la suma es: \" + str(sum(m1, m2)))\n",
    "\n",
    "def sum(m1, m2):\n",
    "    r1 = m1[0] + m2[0]\n",
    "    r2 = m1[1] + m2[1]\n",
    "    r = [r1, r2]\n",
    "    return r\n",
    "\n",
    "main1()"
   ]
  },
  {
   "cell_type": "markdown",
   "metadata": {},
   "source": [
    "### 1.2 Producto\n",
    "\n",
    "A continuación se encuentra la fución prod, cuyo fin es multiplicar un número complejo m1 (de componente a1 y b1) y un número complejo m2(de componente a2 y b2)"
   ]
  },
  {
   "cell_type": "code",
   "execution_count": 29,
   "metadata": {},
   "outputs": [
    {
     "name": "stdout",
     "output_type": "stream",
     "text": [
      "El resultado del producto es: [-5, 5]\n"
     ]
    }
   ],
   "source": [
    "def main2():\n",
    "    a1 = -3\n",
    "    b1 = -1\n",
    "    a2 = 1\n",
    "    b2 = -2\n",
    "    m1 = [a1, b1]\n",
    "    m2 = [a2, b2]\n",
    "    print(\"El resultado del producto es: \" +  str(prod(m1, m2)))\n",
    "\n",
    "def prod(m1, m2):\n",
    "    r1 = m1[0] * m2[0] - m1[1] * m2[1]\n",
    "    r2 = m1[0] * m2[1] + m2[0] * m1[1]\n",
    "    r = [r1, r2]\n",
    "    return r\n",
    "\n",
    "main2()"
   ]
  },
  {
   "cell_type": "markdown",
   "metadata": {},
   "source": [
    "### 1.3 Resta\n",
    "\n",
    "A continuación se encuentra la fución subt, cuyo fin es restar un número complejo m1 (de componente a1 y b1) de un número complejo m2(de componente a2 y b2)"
   ]
  },
  {
   "cell_type": "code",
   "execution_count": 30,
   "metadata": {},
   "outputs": [
    {
     "name": "stdout",
     "output_type": "stream",
     "text": [
      "el resultado de la resta es: [-4, 1]\n"
     ]
    }
   ],
   "source": [
    "def main3():\n",
    "    a1 = -3\n",
    "    b1 = -1\n",
    "    a2 = 1\n",
    "    b2 = -2\n",
    "    m1 = [a1, b1]\n",
    "    m2 = [a2, b2]\n",
    "    r = subt(m1, m2)\n",
    "    print(\"el resultado de la resta es: \" + str(r))\n",
    "\n",
    "def subt(m1, m2):\n",
    "    r1 = m1[0] - m2[0]\n",
    "    r2 = m1[1] - m2[1]\n",
    "    r = [r1, r2]\n",
    "    return r\n",
    "\n",
    "main3()"
   ]
  },
  {
   "cell_type": "markdown",
   "metadata": {},
   "source": [
    "### 1.4 Division\n",
    "\n",
    "A continuación se encuentra la fución div, cuyo fin es dividir un número complejo m1 (de componente a1 y b1) entre un número complejo m2(de componente a2 y b2)"
   ]
  },
  {
   "cell_type": "code",
   "execution_count": 37,
   "metadata": {},
   "outputs": [
    {
     "name": "stdout",
     "output_type": "stream",
     "text": [
      "El resultado de la división es: La división no es posible\n"
     ]
    }
   ],
   "source": [
    "def main4():\n",
    "    a1 = 0\n",
    "    b1 = 3\n",
    "    a2 = 0\n",
    "    b2 = 0\n",
    "    m1 = [a1, b1]\n",
    "    m2 = [a2, b2]\n",
    "    r = div(m1, m2)\n",
    "    print(\"El resultado de la división es: \" + str(r))\n",
    "\n",
    "def div(m1 ,m2):\n",
    "    div1 = m1[0] * m2[0] + m1[1] * m2[1]\n",
    "    div2 = m2[0] * m1[1] - m1[0] * m2[1]\n",
    "    divi = m2[0] ** 2 + m2[1] ** 2\n",
    "    if divi != 0:\n",
    "        r = [round(div1/divi, 2), round(div2/divi, 2)]\n",
    "        return r\n",
    "    else:\n",
    "        r = \"La división no es posible\"\n",
    "        return r\n",
    "\n",
    "main4()"
   ]
  },
  {
   "cell_type": "markdown",
   "metadata": {},
   "source": [
    "### 1.5 Módulo\n",
    "\n",
    "A continuación se encuentra la fución modul, cuyo fin es calcular el módulo de un número complejo (de componentes a1 y b1)"
   ]
  },
  {
   "cell_type": "code",
   "execution_count": 39,
   "metadata": {},
   "outputs": [
    {
     "name": "stdout",
     "output_type": "stream",
     "text": [
      "El modulo es igual a: 5.66\n"
     ]
    }
   ],
   "source": [
    "def main5():\n",
    "    a1 = 4\n",
    "    b1 = -4\n",
    "    print(\"El modulo es igual a: \" + str(modul(a1, b1)))\n",
    "\n",
    "def modul(a1, b1):\n",
    "    r1 = math.sqrt(a1 ** 2 + b1 ** 2)\n",
    "    r = round(r1,2)\n",
    "    return r\n",
    "\n",
    "main5()"
   ]
  },
  {
   "cell_type": "markdown",
   "metadata": {},
   "source": [
    "### 1.6 Conjugado\n",
    "\n",
    "A continuación se encuentra la fución conj, cuyo fin es calcular el conjugado de un número complejo (de componentes a1 y b1)"
   ]
  },
  {
   "cell_type": "code",
   "execution_count": 41,
   "metadata": {},
   "outputs": [
    {
     "name": "stdout",
     "output_type": "stream",
     "text": [
      "El conjugado es igual a: [3, -2]\n"
     ]
    }
   ],
   "source": [
    "def main6():\n",
    "    a1 = 3\n",
    "    b1 = 2\n",
    "    print(\"El conjugado es igual a: \" + str(conj(a1, b1)))\n",
    "\n",
    "def conj(a1, b1):\n",
    "    r1 = -b1\n",
    "    r = [a1, r1]\n",
    "    return r\n",
    "\n",
    "main6()"
   ]
  },
  {
   "cell_type": "markdown",
   "metadata": {},
   "source": [
    "### 1.7.1 Conversión cartesiano a polar\n",
    "\n",
    "A continuación se encuentra la fución pol, cuyo fin es convertir una representación cartesiana (de componentes a y b) a polar"
   ]
  },
  {
   "cell_type": "code",
   "execution_count": 43,
   "metadata": {},
   "outputs": [
    {
     "name": "stdout",
     "output_type": "stream",
     "text": [
      "La representación polar del cartesiano (con θ en grados) es igual a [3.0, 270]\n"
     ]
    }
   ],
   "source": [
    "def main7():\n",
    "    a = 0\n",
    "    b = -3\n",
    "    print(\"La representación polar del cartesiano (con θ en grados) es igual a \"+ str(pol(a, b)))\n",
    "    \n",
    "\n",
    "\n",
    "def pol(a, b):\n",
    "    p1 = math.sqrt(a ** 2 + b ** 2)\n",
    "    p = round(p1, 2)\n",
    "    if a >= 0 and b >= 0:\n",
    "        if a == 0:\n",
    "            t = 90\n",
    "        else:\n",
    "            t = (math.atan(b/a) * 180)/math.pi\n",
    "    elif a <= 0 and b >= 0:\n",
    "        t = 180 + (math.atan(b/a) * 180)/math.pi \n",
    "    elif a <= 0 and b <= 0:\n",
    "        if a == 0:\n",
    "            t = 270\n",
    "        else:\n",
    "            t = (math.atan(b/a) * 180)/math.pi + 180\n",
    "    elif a > 0 and b <= 0:\n",
    "        t = (math.atan(b/a) * 180)/math.pi + 360\n",
    "    t1 = round(t, 2)\n",
    "    r = [p, t1]\n",
    "    return r\n",
    "\n",
    "main7()"
   ]
  },
  {
   "cell_type": "markdown",
   "metadata": {},
   "source": [
    "### 1.7.1 Conversión cartesiano a polar\n",
    "\n",
    "A continuación se encuentra la fución cart, cuyo fin es convertir una representación polar (de componentes r y t(con t en grados)) a cartesiana"
   ]
  },
  {
   "cell_type": "code",
   "execution_count": 12,
   "metadata": {},
   "outputs": [
    {
     "name": "stdout",
     "output_type": "stream",
     "text": [
      "La representación catesiana del polar (3,270) es igual a: (-0.0,-3.0)\n"
     ]
    }
   ],
   "source": [
    "def main8():\n",
    "    r = 3\n",
    "    t = 270\n",
    "    resp = cart(r, t)\n",
    "    print(\"La representación catesiana del polar \" + \"(\" + str(r) + \",\" + str(t) + \")\" + \" es igual a: \"+ \"(\" + str(resp[0]) + \",\" + str(resp[1]) + \")\" )\n",
    "\n",
    "def cart(r, t):\n",
    "    rad = (t * math.pi)/180\n",
    "    a = r * math.cos(rad)\n",
    "    b = r * math.sin(rad)\n",
    "    return [round(a, 2), round(b, 2)]\n",
    "\n",
    "main8()\n",
    "    "
   ]
  },
  {
   "cell_type": "markdown",
   "metadata": {},
   "source": [
    "## Operaciones para vectores, matrices"
   ]
  },
  {
   "cell_type": "markdown",
   "metadata": {},
   "source": [
    "### 2.1 Adición de vectores complejos\n",
    "\n",
    "Dado dos vectores v1 y v2, a traves de la función Sum_V(que recibe V1 y V2), obtenemos como resultado la suma de estos dos vectores"
   ]
  },
  {
   "cell_type": "code",
   "execution_count": 13,
   "metadata": {},
   "outputs": [
    {
     "name": "stdout",
     "output_type": "stream",
     "text": [
      "Vector complejo 1\n",
      "Ingrese el numero de filas del vector 1 = \n"
     ]
    },
    {
     "ename": "ValueError",
     "evalue": "invalid literal for int() with base 10: ''",
     "output_type": "error",
     "traceback": [
      "\u001b[1;31m---------------------------------------------------------------------------\u001b[0m",
      "\u001b[1;31mValueError\u001b[0m                                Traceback (most recent call last)",
      "\u001b[1;32m<ipython-input-13-c5b964a82f7a>\u001b[0m in \u001b[0;36m<module>\u001b[1;34m\u001b[0m\n\u001b[0;32m     47\u001b[0m \u001b[1;33m\u001b[0m\u001b[0m\n\u001b[0;32m     48\u001b[0m \u001b[1;33m\u001b[0m\u001b[0m\n\u001b[1;32m---> 49\u001b[1;33m \u001b[0mmain9\u001b[0m\u001b[1;33m(\u001b[0m\u001b[1;33m)\u001b[0m\u001b[1;33m\u001b[0m\u001b[1;33m\u001b[0m\u001b[0m\n\u001b[0m",
      "\u001b[1;32m<ipython-input-13-c5b964a82f7a>\u001b[0m in \u001b[0;36mmain9\u001b[1;34m()\u001b[0m\n\u001b[0;32m      2\u001b[0m     \u001b[0mprint\u001b[0m\u001b[1;33m(\u001b[0m\u001b[1;34m\"Vector complejo 1\"\u001b[0m\u001b[1;33m)\u001b[0m\u001b[1;33m\u001b[0m\u001b[1;33m\u001b[0m\u001b[0m\n\u001b[0;32m      3\u001b[0m     \u001b[0mV_1\u001b[0m \u001b[1;33m=\u001b[0m \u001b[1;33m[\u001b[0m\u001b[1;33m]\u001b[0m\u001b[1;33m\u001b[0m\u001b[1;33m\u001b[0m\u001b[0m\n\u001b[1;32m----> 4\u001b[1;33m     \u001b[0mNo_filas_1\u001b[0m \u001b[1;33m=\u001b[0m \u001b[0mint\u001b[0m\u001b[1;33m(\u001b[0m\u001b[0minput\u001b[0m\u001b[1;33m(\u001b[0m\u001b[1;34m\"Ingrese el numero de filas del vector 1 = \"\u001b[0m\u001b[1;33m)\u001b[0m\u001b[1;33m)\u001b[0m\u001b[1;33m\u001b[0m\u001b[1;33m\u001b[0m\u001b[0m\n\u001b[0m\u001b[0;32m      5\u001b[0m     \u001b[1;32mfor\u001b[0m \u001b[0mx\u001b[0m \u001b[1;32min\u001b[0m \u001b[0mrange\u001b[0m\u001b[1;33m(\u001b[0m\u001b[0mNo_filas_1\u001b[0m\u001b[1;33m)\u001b[0m\u001b[1;33m:\u001b[0m\u001b[1;33m\u001b[0m\u001b[1;33m\u001b[0m\u001b[0m\n\u001b[0;32m      6\u001b[0m         \u001b[0mcomp_1\u001b[0m \u001b[1;33m=\u001b[0m \u001b[0minput\u001b[0m\u001b[1;33m(\u001b[0m\u001b[1;34m\"Ingrese el valor para la posición (en forma de número complejo) \"\u001b[0m \u001b[1;33m+\u001b[0m \u001b[0mstr\u001b[0m\u001b[1;33m(\u001b[0m\u001b[0mx\u001b[0m \u001b[1;33m+\u001b[0m \u001b[1;36m1\u001b[0m\u001b[1;33m)\u001b[0m \u001b[1;33m+\u001b[0m \u001b[1;34m\" = \"\u001b[0m\u001b[1;33m)\u001b[0m\u001b[1;33m\u001b[0m\u001b[1;33m\u001b[0m\u001b[0m\n",
      "\u001b[1;31mValueError\u001b[0m: invalid literal for int() with base 10: ''"
     ]
    }
   ],
   "source": [
    "def main9():\n",
    "    print(\"Vector complejo 1\")\n",
    "    V_1 = [] \n",
    "    No_filas_1 = int(input(\"Ingrese el numero de filas del vector 1 = \"))\n",
    "    for x in range(No_filas_1):\n",
    "        comp_1 = input(\"Ingrese el valor para la posición (en forma de número complejo) \" + str(x + 1) + \" = \")\n",
    "        comp1 = vec(comp_1)\n",
    "        V_1.append(comp1)\n",
    "    print(\"\")\n",
    "    print(\"Vector complejo 2\")\n",
    "    V_2 = [] \n",
    "    No_filas_2 = int(input(\"Ingrese el numero de filas del vector 2 = \"))\n",
    "    for x in range(No_filas_1):\n",
    "        comp_2 = input(\"Ingrese el valor para la posición (en forma de número complejo) \" + str(x + 1) + \" = \")\n",
    "        comp2 = vec(comp_2)\n",
    "        V_2.append(comp2)\n",
    "    r = Sum_V(V_1, V_2)\n",
    "    if r != \"La suma no es posible\":\n",
    "        print(\"\")\n",
    "        print(\"///////////////////////////////\")\n",
    "        print(\"////El vector resultante es////:\")\n",
    "        print(\"///////////////////////////////\")\n",
    "        print(\"\")\n",
    "        for x in r:\n",
    "            print(x)\n",
    "    else:\n",
    "        print(r)\n",
    "\n",
    "def Sum_V(V1, V2):\n",
    "    if V1 == [] and V2 == []:\n",
    "        r = []\n",
    "        return r\n",
    "    else:\n",
    "        x1 = len(V1)\n",
    "        x2 = len(V2)\n",
    "        if x1 == x2:\n",
    "            V_r = []\n",
    "            for x in range(x1):\n",
    "                suma = sum(V1[x], V2[x])\n",
    "                V_r.append(compl(suma))\n",
    "            return V_r\n",
    "            \n",
    "                \n",
    "        else:\n",
    "            r = \"La suma no es posible\"\n",
    "            return r\n",
    "    \n",
    "        \n",
    "main9()"
   ]
  },
  {
   "cell_type": "markdown",
   "metadata": {},
   "source": [
    "## 2.2 Inverso aditivo de vector complejo\n",
    "\n",
    "A continuación se encuentra la función inv, que recibe un vector complejo V, y devuelve su inverso aditivo"
   ]
  },
  {
   "cell_type": "code",
   "execution_count": 14,
   "metadata": {},
   "outputs": [
    {
     "name": "stdout",
     "output_type": "stream",
     "text": [
      "Vector complejo 1\n",
      "Ingrese el numero de filas del vector 1 = \n"
     ]
    },
    {
     "ename": "ValueError",
     "evalue": "invalid literal for int() with base 10: ''",
     "output_type": "error",
     "traceback": [
      "\u001b[1;31m---------------------------------------------------------------------------\u001b[0m",
      "\u001b[1;31mValueError\u001b[0m                                Traceback (most recent call last)",
      "\u001b[1;32m<ipython-input-14-c8aa0a52bb8c>\u001b[0m in \u001b[0;36m<module>\u001b[1;34m\u001b[0m\n\u001b[0;32m     21\u001b[0m \u001b[1;33m\u001b[0m\u001b[0m\n\u001b[0;32m     22\u001b[0m \u001b[1;33m\u001b[0m\u001b[0m\n\u001b[1;32m---> 23\u001b[1;33m \u001b[0mmain10\u001b[0m\u001b[1;33m(\u001b[0m\u001b[1;33m)\u001b[0m\u001b[1;33m\u001b[0m\u001b[1;33m\u001b[0m\u001b[0m\n\u001b[0m",
      "\u001b[1;32m<ipython-input-14-c8aa0a52bb8c>\u001b[0m in \u001b[0;36mmain10\u001b[1;34m()\u001b[0m\n\u001b[0;32m      2\u001b[0m     \u001b[0mprint\u001b[0m\u001b[1;33m(\u001b[0m\u001b[1;34m\"Vector complejo 1\"\u001b[0m\u001b[1;33m)\u001b[0m\u001b[1;33m\u001b[0m\u001b[1;33m\u001b[0m\u001b[0m\n\u001b[0;32m      3\u001b[0m     \u001b[0mV_1\u001b[0m \u001b[1;33m=\u001b[0m \u001b[1;33m[\u001b[0m\u001b[1;33m]\u001b[0m\u001b[1;33m\u001b[0m\u001b[1;33m\u001b[0m\u001b[0m\n\u001b[1;32m----> 4\u001b[1;33m     \u001b[0mNo_filas_1\u001b[0m \u001b[1;33m=\u001b[0m \u001b[0mint\u001b[0m\u001b[1;33m(\u001b[0m\u001b[0minput\u001b[0m\u001b[1;33m(\u001b[0m\u001b[1;34m\"Ingrese el numero de filas del vector 1 = \"\u001b[0m\u001b[1;33m)\u001b[0m\u001b[1;33m)\u001b[0m\u001b[1;33m\u001b[0m\u001b[1;33m\u001b[0m\u001b[0m\n\u001b[0m\u001b[0;32m      5\u001b[0m     \u001b[1;32mfor\u001b[0m \u001b[0mx\u001b[0m \u001b[1;32min\u001b[0m \u001b[0mrange\u001b[0m\u001b[1;33m(\u001b[0m\u001b[0mNo_filas_1\u001b[0m\u001b[1;33m)\u001b[0m\u001b[1;33m:\u001b[0m\u001b[1;33m\u001b[0m\u001b[1;33m\u001b[0m\u001b[0m\n\u001b[0;32m      6\u001b[0m         \u001b[0mcomp_1\u001b[0m \u001b[1;33m=\u001b[0m \u001b[0minput\u001b[0m\u001b[1;33m(\u001b[0m\u001b[1;34m\"Ingrese el valor para la posición (en forma de número complejo) \"\u001b[0m \u001b[1;33m+\u001b[0m \u001b[0mstr\u001b[0m\u001b[1;33m(\u001b[0m\u001b[0mx\u001b[0m \u001b[1;33m+\u001b[0m \u001b[1;36m1\u001b[0m\u001b[1;33m)\u001b[0m \u001b[1;33m+\u001b[0m \u001b[1;34m\" = \"\u001b[0m\u001b[1;33m)\u001b[0m\u001b[1;33m\u001b[0m\u001b[1;33m\u001b[0m\u001b[0m\n",
      "\u001b[1;31mValueError\u001b[0m: invalid literal for int() with base 10: ''"
     ]
    }
   ],
   "source": [
    "def main10():\n",
    "    print(\"Vector complejo 1\")\n",
    "    V_1 = [] \n",
    "    No_filas_1 = int(input(\"Ingrese el numero de filas del vector 1 = \"))\n",
    "    for x in range(No_filas_1):\n",
    "        comp_1 = input(\"Ingrese el valor para la posición (en forma de número complejo) \" + str(x + 1) + \" = \")\n",
    "        comp1 = vec(comp_1)\n",
    "        V_1.append(comp1)\n",
    "    r = inv(V_1)\n",
    "    print(\"\")\n",
    "    print(\"La iversa resultante es: \")\n",
    "    for i in r:\n",
    "        print(i)\n",
    "\n",
    "def inv(V):\n",
    "    V_r = []\n",
    "    for i in V:\n",
    "        V_r.append(compl([-i[0], -i[1]]))\n",
    "    return V_r\n",
    "        \n",
    "\n",
    "\n",
    "main10()"
   ]
  },
  {
   "cell_type": "markdown",
   "metadata": {},
   "source": [
    "## 2.3 Multiplicación de un escalar por un vector complejo\n",
    "\n",
    "A continuación se encuentra la función Mult_V, que recibe un escalar c, y un vector complejo V, y devuelve su resultado"
   ]
  },
  {
   "cell_type": "code",
   "execution_count": 15,
   "metadata": {},
   "outputs": [
    {
     "name": "stdout",
     "output_type": "stream",
     "text": [
      "Ingrese el valor del escalar\n",
      "\n",
      "Vector complejo 1\n",
      "Ingrese el numero de filas del vector 1 = \n"
     ]
    },
    {
     "ename": "ValueError",
     "evalue": "invalid literal for int() with base 10: ''",
     "output_type": "error",
     "traceback": [
      "\u001b[1;31m---------------------------------------------------------------------------\u001b[0m",
      "\u001b[1;31mValueError\u001b[0m                                Traceback (most recent call last)",
      "\u001b[1;32m<ipython-input-15-4554d644e784>\u001b[0m in \u001b[0;36m<module>\u001b[1;34m\u001b[0m\n\u001b[0;32m     19\u001b[0m     \u001b[1;32mreturn\u001b[0m \u001b[0mV_r\u001b[0m\u001b[1;33m\u001b[0m\u001b[1;33m\u001b[0m\u001b[0m\n\u001b[0;32m     20\u001b[0m \u001b[1;33m\u001b[0m\u001b[0m\n\u001b[1;32m---> 21\u001b[1;33m \u001b[0mmain11\u001b[0m\u001b[1;33m(\u001b[0m\u001b[1;33m)\u001b[0m\u001b[1;33m\u001b[0m\u001b[1;33m\u001b[0m\u001b[0m\n\u001b[0m",
      "\u001b[1;32m<ipython-input-15-4554d644e784>\u001b[0m in \u001b[0;36mmain11\u001b[1;34m()\u001b[0m\n\u001b[0;32m      4\u001b[0m     \u001b[0mprint\u001b[0m\u001b[1;33m(\u001b[0m\u001b[1;34m\"Vector complejo 1\"\u001b[0m\u001b[1;33m)\u001b[0m\u001b[1;33m\u001b[0m\u001b[1;33m\u001b[0m\u001b[0m\n\u001b[0;32m      5\u001b[0m     \u001b[0mV_1\u001b[0m \u001b[1;33m=\u001b[0m \u001b[1;33m[\u001b[0m\u001b[1;33m]\u001b[0m\u001b[1;33m\u001b[0m\u001b[1;33m\u001b[0m\u001b[0m\n\u001b[1;32m----> 6\u001b[1;33m     \u001b[0mNo_filas_1\u001b[0m \u001b[1;33m=\u001b[0m \u001b[0mint\u001b[0m\u001b[1;33m(\u001b[0m\u001b[0minput\u001b[0m\u001b[1;33m(\u001b[0m\u001b[1;34m\"Ingrese el numero de filas del vector 1 = \"\u001b[0m\u001b[1;33m)\u001b[0m\u001b[1;33m)\u001b[0m\u001b[1;33m\u001b[0m\u001b[1;33m\u001b[0m\u001b[0m\n\u001b[0m\u001b[0;32m      7\u001b[0m     \u001b[1;32mfor\u001b[0m \u001b[0mx\u001b[0m \u001b[1;32min\u001b[0m \u001b[0mrange\u001b[0m\u001b[1;33m(\u001b[0m\u001b[0mNo_filas_1\u001b[0m\u001b[1;33m)\u001b[0m\u001b[1;33m:\u001b[0m\u001b[1;33m\u001b[0m\u001b[1;33m\u001b[0m\u001b[0m\n\u001b[0;32m      8\u001b[0m         \u001b[0mcomp_1\u001b[0m \u001b[1;33m=\u001b[0m \u001b[0minput\u001b[0m\u001b[1;33m(\u001b[0m\u001b[1;34m\"Ingrese el valor para la posición (en forma de número complejo) \"\u001b[0m \u001b[1;33m+\u001b[0m \u001b[0mstr\u001b[0m\u001b[1;33m(\u001b[0m\u001b[0mx\u001b[0m \u001b[1;33m+\u001b[0m \u001b[1;36m1\u001b[0m\u001b[1;33m)\u001b[0m \u001b[1;33m+\u001b[0m \u001b[1;34m\" = \"\u001b[0m\u001b[1;33m)\u001b[0m\u001b[1;33m\u001b[0m\u001b[1;33m\u001b[0m\u001b[0m\n",
      "\u001b[1;31mValueError\u001b[0m: invalid literal for int() with base 10: ''"
     ]
    }
   ],
   "source": [
    "def main11():\n",
    "    c = input(\"Ingrese el valor del escalar\")\n",
    "    print(\"\")\n",
    "    print(\"Vector complejo 1\")\n",
    "    V_1 = [] \n",
    "    No_filas_1 = int(input(\"Ingrese el numero de filas del vector 1 = \"))\n",
    "    for x in range(No_filas_1):\n",
    "        comp_1 = input(\"Ingrese el valor para la posición (en forma de número complejo) \" + str(x + 1) + \" = \")\n",
    "        comp1 = vec(comp_1)\n",
    "        V_1.append(comp1)\n",
    "    r = Mult_V(vec(c), V_1)\n",
    "    for i in r:\n",
    "        print(i)\n",
    "\n",
    "def Mult_V(c, V):\n",
    "    V_r = []\n",
    "    for i in V:\n",
    "        V_r.append(compl(prod(c, i)))\n",
    "    return V_r\n",
    "        \n",
    "main11()  "
   ]
  },
  {
   "cell_type": "markdown",
   "metadata": {},
   "source": [
    "### 2.4 Adición de matrices complejos\n",
    "\n",
    "A continuación se encuentra la función Sum_M, que recibe dos matrices M1 y M2, y devuelve su suma"
   ]
  },
  {
   "cell_type": "code",
   "execution_count": 16,
   "metadata": {},
   "outputs": [
    {
     "name": "stdout",
     "output_type": "stream",
     "text": [
      "Matriz 1\n",
      "Ingrese el número de filas de la matriz 1 = \n"
     ]
    },
    {
     "ename": "ValueError",
     "evalue": "invalid literal for int() with base 10: ''",
     "output_type": "error",
     "traceback": [
      "\u001b[1;31m---------------------------------------------------------------------------\u001b[0m",
      "\u001b[1;31mValueError\u001b[0m                                Traceback (most recent call last)",
      "\u001b[1;32m<ipython-input-16-bae6c91d684a>\u001b[0m in \u001b[0;36m<module>\u001b[1;34m\u001b[0m\n\u001b[0;32m     60\u001b[0m \u001b[1;33m\u001b[0m\u001b[0m\n\u001b[0;32m     61\u001b[0m \u001b[1;33m\u001b[0m\u001b[0m\n\u001b[1;32m---> 62\u001b[1;33m \u001b[0mmain12\u001b[0m\u001b[1;33m(\u001b[0m\u001b[1;33m)\u001b[0m\u001b[1;33m\u001b[0m\u001b[1;33m\u001b[0m\u001b[0m\n\u001b[0m",
      "\u001b[1;32m<ipython-input-16-bae6c91d684a>\u001b[0m in \u001b[0;36mmain12\u001b[1;34m()\u001b[0m\n\u001b[0;32m      2\u001b[0m     \u001b[0mprint\u001b[0m\u001b[1;33m(\u001b[0m\u001b[1;34m\"Matriz 1\"\u001b[0m\u001b[1;33m)\u001b[0m\u001b[1;33m\u001b[0m\u001b[1;33m\u001b[0m\u001b[0m\n\u001b[0;32m      3\u001b[0m     \u001b[0mMatriz_1\u001b[0m \u001b[1;33m=\u001b[0m \u001b[1;33m[\u001b[0m\u001b[1;33m]\u001b[0m\u001b[1;33m\u001b[0m\u001b[1;33m\u001b[0m\u001b[0m\n\u001b[1;32m----> 4\u001b[1;33m     \u001b[0mNo_filas_1\u001b[0m \u001b[1;33m=\u001b[0m \u001b[0mint\u001b[0m\u001b[1;33m(\u001b[0m\u001b[0minput\u001b[0m\u001b[1;33m(\u001b[0m\u001b[1;34m\"Ingrese el número de filas de la matriz 1 = \"\u001b[0m\u001b[1;33m)\u001b[0m\u001b[1;33m)\u001b[0m\u001b[1;33m\u001b[0m\u001b[1;33m\u001b[0m\u001b[0m\n\u001b[0m\u001b[0;32m      5\u001b[0m     \u001b[0mNo_columnas_1\u001b[0m \u001b[1;33m=\u001b[0m \u001b[0mint\u001b[0m\u001b[1;33m(\u001b[0m\u001b[0minput\u001b[0m\u001b[1;33m(\u001b[0m\u001b[1;34m\"Ingrese el número de columnas de la matriz 1 = \"\u001b[0m\u001b[1;33m)\u001b[0m\u001b[1;33m)\u001b[0m\u001b[1;33m\u001b[0m\u001b[1;33m\u001b[0m\u001b[0m\n\u001b[0;32m      6\u001b[0m     \u001b[1;32mfor\u001b[0m \u001b[0mx\u001b[0m \u001b[1;32min\u001b[0m \u001b[0mrange\u001b[0m\u001b[1;33m(\u001b[0m\u001b[0mNo_filas_1\u001b[0m\u001b[1;33m)\u001b[0m\u001b[1;33m:\u001b[0m\u001b[1;33m\u001b[0m\u001b[1;33m\u001b[0m\u001b[0m\n",
      "\u001b[1;31mValueError\u001b[0m: invalid literal for int() with base 10: ''"
     ]
    }
   ],
   "source": [
    "def main12():\n",
    "    print(\"Matriz 1\")\n",
    "    Matriz_1 = [] \n",
    "    No_filas_1 = int(input(\"Ingrese el número de filas de la matriz 1 = \"))\n",
    "    No_columnas_1 = int(input(\"Ingrese el número de columnas de la matriz 1 = \"))\n",
    "    for x in range(No_filas_1):\n",
    "        Matriz_1.append([])\n",
    "        for y in range(No_columnas_1):\n",
    "            comp = input(\"Ingrese el valor para la posición (en forma de número complejo) \" + str(x + 1) + str(y + 1) + \" = \")\n",
    "            comp1 = vec(comp)\n",
    "            Matriz_1[x].append(comp1)\n",
    "    \n",
    "    print(\"\")\n",
    "    print(\"Matriz 2\")\n",
    "    Matriz_2 = [] \n",
    "    No_filas_2 = int(input(\"Ingrese el número de filas de la matriz 2 = \"))\n",
    "    No_columnas_2 = int(input(\"Ingrese el número de columnas de la matriz 2 = \"))\n",
    "    for x in range(No_filas_2):\n",
    "        Matriz_2.append([])\n",
    "        for y in range(No_columnas_2):\n",
    "            comp = input(\"Ingrese el valor para la posición (en forma de número complejo) \" + str(x + 1) + str(y + 1) + \" = \")\n",
    "            comp1 = vec(comp)\n",
    "            Matriz_2[x].append(comp1)\n",
    "    \n",
    "    r = Sum_M(Matriz_1, Matriz_2)\n",
    "    if r != \"La suma no es posible\":\n",
    "        print(\"\")\n",
    "        print(\"///////////////////////////////\")\n",
    "        print(\"////La matriz resultante es////:\")\n",
    "        print(\"///////////////////////////////\")\n",
    "        print(\"\")\n",
    "        for x in r:\n",
    "            print(x)\n",
    "    else:\n",
    "        print(r)\n",
    "    \n",
    "    \n",
    "def Sum_M(M1, M2):\n",
    "    if M1 == [] and M2 == []:\n",
    "        r = []\n",
    "        return r\n",
    "    else:\n",
    "        x1 = len(M1)\n",
    "        x2 = len(M2)\n",
    "        y1 = len(M1[0])\n",
    "        y2 = len(M2[0])\n",
    "        if x1 == x2:\n",
    "            if y1 == y2:\n",
    "                Matriz_r = []\n",
    "                for x in range(x1):\n",
    "                    Matriz_r.append([])\n",
    "                    for y in range(y1):\n",
    "                        suma = sum(M1[x][y], M2[x][y])\n",
    "                        Matriz_r[x].append(compl(suma))\n",
    "                return Matriz_r\n",
    "        else:\n",
    "            r = \"La suma no es posible\"\n",
    "            return r\n",
    "                \n",
    "            \n",
    "    \n",
    "main12()"
   ]
  },
  {
   "cell_type": "markdown",
   "metadata": {},
   "source": [
    "## 2.5 Inverso aditivo de matriz compleja\n",
    "\n",
    "A continuación se encuentra la función Inv_M, que recibe una matriz compleja M, y devuelve su inversa"
   ]
  },
  {
   "cell_type": "code",
   "execution_count": 17,
   "metadata": {},
   "outputs": [
    {
     "name": "stdout",
     "output_type": "stream",
     "text": [
      "Matriz 1\n",
      "Ingrese el número de filas de la matriz 1 = \n"
     ]
    },
    {
     "ename": "ValueError",
     "evalue": "invalid literal for int() with base 10: ''",
     "output_type": "error",
     "traceback": [
      "\u001b[1;31m---------------------------------------------------------------------------\u001b[0m",
      "\u001b[1;31mValueError\u001b[0m                                Traceback (most recent call last)",
      "\u001b[1;32m<ipython-input-17-2cd8d7e06435>\u001b[0m in \u001b[0;36m<module>\u001b[1;34m\u001b[0m\n\u001b[0;32m     29\u001b[0m                 \u001b[0mM_r\u001b[0m\u001b[1;33m[\u001b[0m\u001b[0mi\u001b[0m\u001b[1;33m]\u001b[0m\u001b[1;33m.\u001b[0m\u001b[0mappend\u001b[0m\u001b[1;33m(\u001b[0m\u001b[0mcompl\u001b[0m\u001b[1;33m(\u001b[0m\u001b[0minv\u001b[0m\u001b[1;33m)\u001b[0m\u001b[1;33m)\u001b[0m\u001b[1;33m\u001b[0m\u001b[1;33m\u001b[0m\u001b[0m\n\u001b[0;32m     30\u001b[0m         \u001b[1;32mreturn\u001b[0m \u001b[0mM_r\u001b[0m\u001b[1;33m\u001b[0m\u001b[1;33m\u001b[0m\u001b[0m\n\u001b[1;32m---> 31\u001b[1;33m \u001b[0mmain13\u001b[0m\u001b[1;33m(\u001b[0m\u001b[1;33m)\u001b[0m\u001b[1;33m\u001b[0m\u001b[1;33m\u001b[0m\u001b[0m\n\u001b[0m\u001b[0;32m     32\u001b[0m \u001b[1;33m\u001b[0m\u001b[0m\n",
      "\u001b[1;32m<ipython-input-17-2cd8d7e06435>\u001b[0m in \u001b[0;36mmain13\u001b[1;34m()\u001b[0m\n\u001b[0;32m      2\u001b[0m     \u001b[0mprint\u001b[0m\u001b[1;33m(\u001b[0m\u001b[1;34m\"Matriz 1\"\u001b[0m\u001b[1;33m)\u001b[0m\u001b[1;33m\u001b[0m\u001b[1;33m\u001b[0m\u001b[0m\n\u001b[0;32m      3\u001b[0m     \u001b[0mMatriz_1\u001b[0m \u001b[1;33m=\u001b[0m \u001b[1;33m[\u001b[0m\u001b[1;33m]\u001b[0m\u001b[1;33m\u001b[0m\u001b[1;33m\u001b[0m\u001b[0m\n\u001b[1;32m----> 4\u001b[1;33m     \u001b[0mNo_filas_1\u001b[0m \u001b[1;33m=\u001b[0m \u001b[0mint\u001b[0m\u001b[1;33m(\u001b[0m\u001b[0minput\u001b[0m\u001b[1;33m(\u001b[0m\u001b[1;34m\"Ingrese el número de filas de la matriz 1 = \"\u001b[0m\u001b[1;33m)\u001b[0m\u001b[1;33m)\u001b[0m\u001b[1;33m\u001b[0m\u001b[1;33m\u001b[0m\u001b[0m\n\u001b[0m\u001b[0;32m      5\u001b[0m     \u001b[0mNo_columnas_1\u001b[0m \u001b[1;33m=\u001b[0m \u001b[0mint\u001b[0m\u001b[1;33m(\u001b[0m\u001b[0minput\u001b[0m\u001b[1;33m(\u001b[0m\u001b[1;34m\"Ingrese el número de columnas de la matriz 1 = \"\u001b[0m\u001b[1;33m)\u001b[0m\u001b[1;33m)\u001b[0m\u001b[1;33m\u001b[0m\u001b[1;33m\u001b[0m\u001b[0m\n\u001b[0;32m      6\u001b[0m     \u001b[1;32mfor\u001b[0m \u001b[0mx\u001b[0m \u001b[1;32min\u001b[0m \u001b[0mrange\u001b[0m\u001b[1;33m(\u001b[0m\u001b[0mNo_filas_1\u001b[0m\u001b[1;33m)\u001b[0m\u001b[1;33m:\u001b[0m\u001b[1;33m\u001b[0m\u001b[1;33m\u001b[0m\u001b[0m\n",
      "\u001b[1;31mValueError\u001b[0m: invalid literal for int() with base 10: ''"
     ]
    }
   ],
   "source": [
    "def main13():\n",
    "    print(\"Matriz 1\")\n",
    "    Matriz_1 = [] \n",
    "    No_filas_1 = int(input(\"Ingrese el número de filas de la matriz 1 = \"))\n",
    "    No_columnas_1 = int(input(\"Ingrese el número de columnas de la matriz 1 = \"))\n",
    "    for x in range(No_filas_1):\n",
    "        Matriz_1.append([])\n",
    "        for y in range(No_columnas_1):\n",
    "            comp = input(\"Ingrese el valor para la posición (en forma de número complejo) \" + str(x + 1) + str(y + 1) + \" = \")\n",
    "            comp1 = vec(comp)\n",
    "            Matriz_1[x].append(comp1)\n",
    "    r = Inv_M(Matriz_1)\n",
    "    print(\"\")\n",
    "    print(\"La inversa de la matriz es: \")\n",
    "    for i in r:\n",
    "        print(i)\n",
    "    \n",
    "def Inv_M(M):\n",
    "    M_r = []\n",
    "    if M == []:\n",
    "        return []\n",
    "    else:\n",
    "        x = len(M)\n",
    "        y = len(M[0])\n",
    "        for i in range(x):\n",
    "            M_r.append([])\n",
    "            for j in range(y):\n",
    "                inv = [-M[i][j][0], -M[i][j][1]] \n",
    "                M_r[i].append(compl(inv))\n",
    "        return M_r\n",
    "main13()\n",
    "                "
   ]
  },
  {
   "cell_type": "markdown",
   "metadata": {},
   "source": [
    "### 2.6 Multiplicación de escalar por matriz compleja\n",
    "\n",
    "A continuación se encuentra la función mult_cM, que multiplica un escalar c con una matriz M, y devuelve su resultado "
   ]
  },
  {
   "cell_type": "code",
   "execution_count": 18,
   "metadata": {},
   "outputs": [
    {
     "name": "stdout",
     "output_type": "stream",
     "text": [
      "Ingrese el número complejo\n",
      "\n",
      "Matriz 1\n",
      "Ingrese el número de filas de la matriz 1 = \n"
     ]
    },
    {
     "ename": "ValueError",
     "evalue": "invalid literal for int() with base 10: ''",
     "output_type": "error",
     "traceback": [
      "\u001b[1;31m---------------------------------------------------------------------------\u001b[0m",
      "\u001b[1;31mValueError\u001b[0m                                Traceback (most recent call last)",
      "\u001b[1;32m<ipython-input-18-cad5eed7e847>\u001b[0m in \u001b[0;36m<module>\u001b[1;34m\u001b[0m\n\u001b[0;32m     30\u001b[0m                 \u001b[0mM_r\u001b[0m\u001b[1;33m[\u001b[0m\u001b[0mi\u001b[0m\u001b[1;33m]\u001b[0m\u001b[1;33m.\u001b[0m\u001b[0mappend\u001b[0m\u001b[1;33m(\u001b[0m\u001b[0mcompl\u001b[0m\u001b[1;33m(\u001b[0m\u001b[0mm\u001b[0m\u001b[1;33m)\u001b[0m\u001b[1;33m)\u001b[0m\u001b[1;33m\u001b[0m\u001b[1;33m\u001b[0m\u001b[0m\n\u001b[0;32m     31\u001b[0m         \u001b[1;32mreturn\u001b[0m \u001b[0mM_r\u001b[0m\u001b[1;33m\u001b[0m\u001b[1;33m\u001b[0m\u001b[0m\n\u001b[1;32m---> 32\u001b[1;33m \u001b[0mmain14\u001b[0m\u001b[1;33m(\u001b[0m\u001b[1;33m)\u001b[0m\u001b[1;33m\u001b[0m\u001b[1;33m\u001b[0m\u001b[0m\n\u001b[0m\u001b[0;32m     33\u001b[0m \u001b[1;33m\u001b[0m\u001b[0m\n",
      "\u001b[1;32m<ipython-input-18-cad5eed7e847>\u001b[0m in \u001b[0;36mmain14\u001b[1;34m()\u001b[0m\n\u001b[0;32m      4\u001b[0m     \u001b[0mprint\u001b[0m\u001b[1;33m(\u001b[0m\u001b[1;34m\"Matriz 1\"\u001b[0m\u001b[1;33m)\u001b[0m\u001b[1;33m\u001b[0m\u001b[1;33m\u001b[0m\u001b[0m\n\u001b[0;32m      5\u001b[0m     \u001b[0mMatriz_1\u001b[0m \u001b[1;33m=\u001b[0m \u001b[1;33m[\u001b[0m\u001b[1;33m]\u001b[0m\u001b[1;33m\u001b[0m\u001b[1;33m\u001b[0m\u001b[0m\n\u001b[1;32m----> 6\u001b[1;33m     \u001b[0mNo_filas_1\u001b[0m \u001b[1;33m=\u001b[0m \u001b[0mint\u001b[0m\u001b[1;33m(\u001b[0m\u001b[0minput\u001b[0m\u001b[1;33m(\u001b[0m\u001b[1;34m\"Ingrese el número de filas de la matriz 1 = \"\u001b[0m\u001b[1;33m)\u001b[0m\u001b[1;33m)\u001b[0m\u001b[1;33m\u001b[0m\u001b[1;33m\u001b[0m\u001b[0m\n\u001b[0m\u001b[0;32m      7\u001b[0m     \u001b[0mNo_columnas_1\u001b[0m \u001b[1;33m=\u001b[0m \u001b[0mint\u001b[0m\u001b[1;33m(\u001b[0m\u001b[0minput\u001b[0m\u001b[1;33m(\u001b[0m\u001b[1;34m\"Ingrese el número de columnas de la matriz 1 = \"\u001b[0m\u001b[1;33m)\u001b[0m\u001b[1;33m)\u001b[0m\u001b[1;33m\u001b[0m\u001b[1;33m\u001b[0m\u001b[0m\n\u001b[0;32m      8\u001b[0m     \u001b[1;32mfor\u001b[0m \u001b[0mx\u001b[0m \u001b[1;32min\u001b[0m \u001b[0mrange\u001b[0m\u001b[1;33m(\u001b[0m\u001b[0mNo_filas_1\u001b[0m\u001b[1;33m)\u001b[0m\u001b[1;33m:\u001b[0m\u001b[1;33m\u001b[0m\u001b[1;33m\u001b[0m\u001b[0m\n",
      "\u001b[1;31mValueError\u001b[0m: invalid literal for int() with base 10: ''"
     ]
    }
   ],
   "source": [
    "def main14():\n",
    "    c = input(\"Ingrese el número complejo\")\n",
    "    print(\"\")\n",
    "    print(\"Matriz 1\")\n",
    "    Matriz_1 = [] \n",
    "    No_filas_1 = int(input(\"Ingrese el número de filas de la matriz 1 = \"))\n",
    "    No_columnas_1 = int(input(\"Ingrese el número de columnas de la matriz 1 = \"))\n",
    "    for x in range(No_filas_1):\n",
    "        Matriz_1.append([])\n",
    "        for y in range(No_columnas_1):\n",
    "            comp = input(\"Ingrese el valor para la posición (en forma de número complejo) \" + str(x + 1) + str(y + 1) + \" = \")\n",
    "            comp1 = vec(comp)\n",
    "            Matriz_1[x].append(comp1)\n",
    "    r = mult_cM(vec(c), Matriz_1)\n",
    "    print(\"\")\n",
    "    print(\"El resultado es: \")\n",
    "    for i in r:\n",
    "        print(i)\n",
    "def mult_cM(c, M):\n",
    "    M_r = []\n",
    "    if M == []:\n",
    "        return []\n",
    "    else:\n",
    "        x = len(M)\n",
    "        y = len(M[0])\n",
    "        for i in range(x):\n",
    "            M_r.append([])\n",
    "            for j in range(y):\n",
    "                m = prod(c, M[i][j]) \n",
    "                M_r[i].append(compl(m))\n",
    "        return M_r\n",
    "main14()\n",
    "    "
   ]
  },
  {
   "cell_type": "markdown",
   "metadata": {},
   "source": [
    "### 2.7 Tanspuesta de matriz compleja\n",
    "\n",
    "A continuación se encuentra la función tran_M, que recibe una matriz M y devuelve su transpuesta"
   ]
  },
  {
   "cell_type": "code",
   "execution_count": 19,
   "metadata": {},
   "outputs": [
    {
     "name": "stdout",
     "output_type": "stream",
     "text": [
      "Matriz 1\n",
      "Ingrese el número de filas de la matriz 1 = \n"
     ]
    },
    {
     "ename": "ValueError",
     "evalue": "invalid literal for int() with base 10: ''",
     "output_type": "error",
     "traceback": [
      "\u001b[1;31m---------------------------------------------------------------------------\u001b[0m",
      "\u001b[1;31mValueError\u001b[0m                                Traceback (most recent call last)",
      "\u001b[1;32m<ipython-input-19-d2e34adcf85b>\u001b[0m in \u001b[0;36m<module>\u001b[1;34m\u001b[0m\n\u001b[0;32m     28\u001b[0m                 \u001b[0mM_r\u001b[0m\u001b[1;33m[\u001b[0m\u001b[0mj\u001b[0m\u001b[1;33m]\u001b[0m\u001b[1;33m.\u001b[0m\u001b[0mappend\u001b[0m\u001b[1;33m(\u001b[0m\u001b[0mcompl\u001b[0m\u001b[1;33m(\u001b[0m\u001b[0mM\u001b[0m\u001b[1;33m[\u001b[0m\u001b[0mi\u001b[0m\u001b[1;33m]\u001b[0m\u001b[1;33m[\u001b[0m\u001b[0mj\u001b[0m\u001b[1;33m]\u001b[0m\u001b[1;33m)\u001b[0m\u001b[1;33m)\u001b[0m\u001b[1;33m\u001b[0m\u001b[1;33m\u001b[0m\u001b[0m\n\u001b[0;32m     29\u001b[0m         \u001b[1;32mreturn\u001b[0m \u001b[0mM_r\u001b[0m\u001b[1;33m\u001b[0m\u001b[1;33m\u001b[0m\u001b[0m\n\u001b[1;32m---> 30\u001b[1;33m \u001b[0mmain15\u001b[0m\u001b[1;33m(\u001b[0m\u001b[1;33m)\u001b[0m\u001b[1;33m\u001b[0m\u001b[1;33m\u001b[0m\u001b[0m\n\u001b[0m",
      "\u001b[1;32m<ipython-input-19-d2e34adcf85b>\u001b[0m in \u001b[0;36mmain15\u001b[1;34m()\u001b[0m\n\u001b[0;32m      2\u001b[0m     \u001b[0mprint\u001b[0m\u001b[1;33m(\u001b[0m\u001b[1;34m\"Matriz 1\"\u001b[0m\u001b[1;33m)\u001b[0m\u001b[1;33m\u001b[0m\u001b[1;33m\u001b[0m\u001b[0m\n\u001b[0;32m      3\u001b[0m     \u001b[0mMatriz_1\u001b[0m \u001b[1;33m=\u001b[0m \u001b[1;33m[\u001b[0m\u001b[1;33m]\u001b[0m\u001b[1;33m\u001b[0m\u001b[1;33m\u001b[0m\u001b[0m\n\u001b[1;32m----> 4\u001b[1;33m     \u001b[0mNo_filas_1\u001b[0m \u001b[1;33m=\u001b[0m \u001b[0mint\u001b[0m\u001b[1;33m(\u001b[0m\u001b[0minput\u001b[0m\u001b[1;33m(\u001b[0m\u001b[1;34m\"Ingrese el número de filas de la matriz 1 = \"\u001b[0m\u001b[1;33m)\u001b[0m\u001b[1;33m)\u001b[0m\u001b[1;33m\u001b[0m\u001b[1;33m\u001b[0m\u001b[0m\n\u001b[0m\u001b[0;32m      5\u001b[0m     \u001b[0mNo_columnas_1\u001b[0m \u001b[1;33m=\u001b[0m \u001b[0mint\u001b[0m\u001b[1;33m(\u001b[0m\u001b[0minput\u001b[0m\u001b[1;33m(\u001b[0m\u001b[1;34m\"Ingrese el número de columnas de la matriz 1 = \"\u001b[0m\u001b[1;33m)\u001b[0m\u001b[1;33m)\u001b[0m\u001b[1;33m\u001b[0m\u001b[1;33m\u001b[0m\u001b[0m\n\u001b[0;32m      6\u001b[0m     \u001b[1;32mfor\u001b[0m \u001b[0mx\u001b[0m \u001b[1;32min\u001b[0m \u001b[0mrange\u001b[0m\u001b[1;33m(\u001b[0m\u001b[0mNo_filas_1\u001b[0m\u001b[1;33m)\u001b[0m\u001b[1;33m:\u001b[0m\u001b[1;33m\u001b[0m\u001b[1;33m\u001b[0m\u001b[0m\n",
      "\u001b[1;31mValueError\u001b[0m: invalid literal for int() with base 10: ''"
     ]
    }
   ],
   "source": [
    "def main15():\n",
    "    print(\"Matriz 1\")\n",
    "    Matriz_1 = [] \n",
    "    No_filas_1 = int(input(\"Ingrese el número de filas de la matriz 1 = \"))\n",
    "    No_columnas_1 = int(input(\"Ingrese el número de columnas de la matriz 1 = \"))\n",
    "    for x in range(No_filas_1):\n",
    "        Matriz_1.append([])\n",
    "        for y in range(No_columnas_1):\n",
    "            comp = input(\"Ingrese el valor para la posición (en forma de número complejo) \" + str(x + 1) + str(y + 1) + \" = \")\n",
    "            comp1 = vec(comp)\n",
    "            Matriz_1[x].append(comp1)\n",
    "    r = tran_M(Matriz_1)\n",
    "    print(\"\")\n",
    "    print(\"El resultado es: \")\n",
    "    for i in r:\n",
    "        print(i)\n",
    "\n",
    "def tran_M(M):\n",
    "    M_r = []\n",
    "    if M == []:\n",
    "        return []\n",
    "    else:\n",
    "        x = len(M)\n",
    "        y = len(M[0])\n",
    "        for j in range(y):\n",
    "            M_r.append([])\n",
    "            for i in range(x):\n",
    "                M_r[j].append(compl(M[i][j]))\n",
    "        return M_r\n",
    "main15()"
   ]
  },
  {
   "cell_type": "markdown",
   "metadata": {},
   "source": [
    "### 2.8 conjugada de matriz compleja"
   ]
  },
  {
   "cell_type": "code",
   "execution_count": 23,
   "metadata": {},
   "outputs": [
    {
     "name": "stdout",
     "output_type": "stream",
     "text": [
      "Matriz 1\n",
      "Ingrese el número de filas de la matriz 1 = 2\n",
      "Ingrese el número de columnas de la matriz 1 = 2\n",
      "Ingrese el valor para la posición (en forma de número complejo) 11 = -6+i\n",
      "Ingrese el valor para la posición (en forma de número complejo) 12 = 3+8i\n",
      "Ingrese el valor para la posición (en forma de número complejo) 21 = 2-6i\n",
      "Ingrese el valor para la posición (en forma de número complejo) 22 = 3\n",
      "\n",
      "El resultado es: \n",
      "['-6-1i', '3-8i']\n",
      "['2+6i', '3']\n"
     ]
    }
   ],
   "source": [
    "def main16():\n",
    "    print(\"Matriz 1\")\n",
    "    Matriz_1 = [] \n",
    "    No_filas_1 = int(input(\"Ingrese el número de filas de la matriz 1 = \"))\n",
    "    No_columnas_1 = int(input(\"Ingrese el número de columnas de la matriz 1 = \"))\n",
    "    for x in range(No_filas_1):\n",
    "        Matriz_1.append([])\n",
    "        for y in range(No_columnas_1):\n",
    "            comp = input(\"Ingrese el valor para la posición (en forma de número complejo) \" + str(x + 1) + str(y + 1) + \" = \")\n",
    "            comp1 = vec(comp)\n",
    "            Matriz_1[x].append(comp1)\n",
    "    r = conj_M(Matriz_1)\n",
    "    print(\"\")\n",
    "    print(\"El resultado es: \")\n",
    "    for i in r:\n",
    "        print(i)\n",
    "\n",
    "def conj_M(M):\n",
    "    M_r = []\n",
    "    if M == []:\n",
    "        return []\n",
    "    else:\n",
    "        x = len(M)\n",
    "        y = len(M[0])\n",
    "        for i in range(x):\n",
    "            M_r.append([])\n",
    "            for j in range(y):\n",
    "                conj = [M[i][j][0], -M[i][j][1]] \n",
    "                M_r[i].append(compl(conj))\n",
    "        return M_r\n",
    "main16()\n",
    "    "
   ]
  },
  {
   "cell_type": "markdown",
   "metadata": {},
   "source": [
    "### 2.9 Adjunto (daga) de una matriz compleja"
   ]
  },
  {
   "cell_type": "code",
   "execution_count": 24,
   "metadata": {},
   "outputs": [
    {
     "ename": "SyntaxError",
     "evalue": "unexpected EOF while parsing (<ipython-input-24-9a5d33854580>, line 18)",
     "output_type": "error",
     "traceback": [
      "\u001b[1;36m  File \u001b[1;32m\"<ipython-input-24-9a5d33854580>\"\u001b[1;36m, line \u001b[1;32m18\u001b[0m\n\u001b[1;33m    \u001b[0m\n\u001b[1;37m    ^\u001b[0m\n\u001b[1;31mSyntaxError\u001b[0m\u001b[1;31m:\u001b[0m unexpected EOF while parsing\n"
     ]
    }
   ],
   "source": [
    "def main17():\n",
    "    print(\"Matriz 1\")\n",
    "    Matriz_1 = [] \n",
    "    No_filas_1 = int(input(\"Ingrese el número de filas de la matriz 1 = \"))\n",
    "    No_columnas_1 = int(input(\"Ingrese el número de columnas de la matriz 1 = \"))\n",
    "    for x in range(No_filas_1):\n",
    "        Matriz_1.append([])\n",
    "        for y in range(No_columnas_1):\n",
    "            comp = input(\"Ingrese el valor para la posición (en forma de número complejo) \" + str(x + 1) + str(y + 1) + \" = \")\n",
    "            comp1 = vec(comp)\n",
    "            Matriz_1[x].append(comp1)\n",
    "    r = daga_M(Matriz_1)\n",
    "    print(\"\")\n",
    "    print(\"El resultado es: \")\n",
    "    for i in r:\n",
    "        print(i)\n",
    "def daga_M(M):def tran_M(M):\n",
    "    M_r = []\n",
    "    if M == []:\n",
    "        return []\n",
    "    else:\n",
    "        x = len(M)\n",
    "        y = len(M[0])\n",
    "        for j in range(y):\n",
    "            M_r.append([])\n",
    "            for i in range(x):\n",
    "                daga = [M[i][j][0], -M[i][j][1]]\n",
    "                M_r[j].append(compl(daga))\n",
    "        return M_r\n",
    "main17()\n",
    "    "
   ]
  },
  {
   "cell_type": "markdown",
   "metadata": {},
   "source": [
    "### 2.10 Multiplicación de matrices complejas\n",
    "\n",
    "A continuación se encuentra la función Mult_M, que recibe dos matrices M1 y M2 y retorna una matiz resultado de su multiplicación"
   ]
  },
  {
   "cell_type": "code",
   "execution_count": 22,
   "metadata": {},
   "outputs": [
    {
     "name": "stdout",
     "output_type": "stream",
     "text": [
      "Matriz 1\n",
      "Ingrese el número de filas de la matriz 1 = \n"
     ]
    },
    {
     "ename": "ValueError",
     "evalue": "invalid literal for int() with base 10: ''",
     "output_type": "error",
     "traceback": [
      "\u001b[1;31m---------------------------------------------------------------------------\u001b[0m",
      "\u001b[1;31mValueError\u001b[0m                                Traceback (most recent call last)",
      "\u001b[1;32m<ipython-input-22-30d7d466b2ae>\u001b[0m in \u001b[0;36m<module>\u001b[1;34m\u001b[0m\n\u001b[0;32m     62\u001b[0m             \u001b[0mr\u001b[0m \u001b[1;33m=\u001b[0m \u001b[1;34m\"La multiplicación no es posible\"\u001b[0m\u001b[1;33m\u001b[0m\u001b[1;33m\u001b[0m\u001b[0m\n\u001b[0;32m     63\u001b[0m             \u001b[1;32mreturn\u001b[0m \u001b[0mr\u001b[0m\u001b[1;33m\u001b[0m\u001b[1;33m\u001b[0m\u001b[0m\n\u001b[1;32m---> 64\u001b[1;33m \u001b[0mmain19\u001b[0m\u001b[1;33m(\u001b[0m\u001b[1;33m)\u001b[0m\u001b[1;33m\u001b[0m\u001b[1;33m\u001b[0m\u001b[0m\n\u001b[0m\u001b[0;32m     65\u001b[0m \u001b[1;33m\u001b[0m\u001b[0m\n\u001b[0;32m     66\u001b[0m \u001b[1;33m\u001b[0m\u001b[0m\n",
      "\u001b[1;32m<ipython-input-22-30d7d466b2ae>\u001b[0m in \u001b[0;36mmain19\u001b[1;34m()\u001b[0m\n\u001b[0;32m      2\u001b[0m     \u001b[0mprint\u001b[0m\u001b[1;33m(\u001b[0m\u001b[1;34m\"Matriz 1\"\u001b[0m\u001b[1;33m)\u001b[0m\u001b[1;33m\u001b[0m\u001b[1;33m\u001b[0m\u001b[0m\n\u001b[0;32m      3\u001b[0m     \u001b[0mMatriz_1\u001b[0m \u001b[1;33m=\u001b[0m \u001b[1;33m[\u001b[0m\u001b[1;33m]\u001b[0m\u001b[1;33m\u001b[0m\u001b[1;33m\u001b[0m\u001b[0m\n\u001b[1;32m----> 4\u001b[1;33m     \u001b[0mNo_filas_1\u001b[0m \u001b[1;33m=\u001b[0m \u001b[0mint\u001b[0m\u001b[1;33m(\u001b[0m\u001b[0minput\u001b[0m\u001b[1;33m(\u001b[0m\u001b[1;34m\"Ingrese el número de filas de la matriz 1 = \"\u001b[0m\u001b[1;33m)\u001b[0m\u001b[1;33m)\u001b[0m\u001b[1;33m\u001b[0m\u001b[1;33m\u001b[0m\u001b[0m\n\u001b[0m\u001b[0;32m      5\u001b[0m     \u001b[0mNo_columnas_1\u001b[0m \u001b[1;33m=\u001b[0m \u001b[0mint\u001b[0m\u001b[1;33m(\u001b[0m\u001b[0minput\u001b[0m\u001b[1;33m(\u001b[0m\u001b[1;34m\"Ingrese el número de columnas de la matriz 1 = \"\u001b[0m\u001b[1;33m)\u001b[0m\u001b[1;33m)\u001b[0m\u001b[1;33m\u001b[0m\u001b[1;33m\u001b[0m\u001b[0m\n\u001b[0;32m      6\u001b[0m     \u001b[1;32mfor\u001b[0m \u001b[0mx\u001b[0m \u001b[1;32min\u001b[0m \u001b[0mrange\u001b[0m\u001b[1;33m(\u001b[0m\u001b[0mNo_filas_1\u001b[0m\u001b[1;33m)\u001b[0m\u001b[1;33m:\u001b[0m\u001b[1;33m\u001b[0m\u001b[1;33m\u001b[0m\u001b[0m\n",
      "\u001b[1;31mValueError\u001b[0m: invalid literal for int() with base 10: ''"
     ]
    }
   ],
   "source": [
    "def main19():\n",
    "    print(\"Matriz 1\")\n",
    "    Matriz_1 = [] \n",
    "    No_filas_1 = int(input(\"Ingrese el número de filas de la matriz 1 = \"))\n",
    "    No_columnas_1 = int(input(\"Ingrese el número de columnas de la matriz 1 = \"))\n",
    "    for x in range(No_filas_1):\n",
    "        Matriz_1.append([])\n",
    "        for y in range(No_columnas_1):\n",
    "            comp = input(\"Ingrese el valor para la posición (en forma de número complejo) \" + str(x + 1) + str(y + 1) + \" = \")\n",
    "            comp1 = vec(comp)\n",
    "            Matriz_1[x].append(comp1)\n",
    "    \n",
    "    print(\"\")\n",
    "    print(\"Matriz 2\")\n",
    "    Matriz_2 = [] \n",
    "    No_filas_2 = int(input(\"Ingrese el número de filas de la matriz 2 = \"))\n",
    "    No_columnas_2 = int(input(\"Ingrese el número de columnas de la matriz 2 = \"))\n",
    "    for x in range(No_filas_2):\n",
    "        Matriz_2.append([])\n",
    "        for y in range(No_columnas_2):\n",
    "            comp = input(\"Ingrese el valor para la posición (en forma de número complejo) \" + str(x + 1) + str(y + 1) + \" = \")\n",
    "            comp1 = vec(comp)\n",
    "            Matriz_2[x].append(comp1)\n",
    "    \n",
    "    r = Mult_M(Matriz_1, Matriz_2)\n",
    "    if r != \"La multiplicación no es posible\":\n",
    "        print(\"\")\n",
    "        print(\"///////////////////////////////\")\n",
    "        print(\"////La matriz resultante es////:\")\n",
    "        print(\"///////////////////////////////\")\n",
    "        print(\"\")\n",
    "        for x in r:\n",
    "            print(x)\n",
    "    else:\n",
    "        print(r)\n",
    "\n",
    "def Mult_M(M1, M2):\n",
    "    if M1 == [] and M2 == []:\n",
    "        r = []\n",
    "        return r\n",
    "    else:\n",
    "        x1 = len(M1)\n",
    "        x2 = len(M2)\n",
    "        y1 = len(M1[0])\n",
    "        y2 = len(M2[0])\n",
    "        print(x1,y1,x2,y2)\n",
    "        if y1 == x2:\n",
    "            rep = []\n",
    "            for i in range(x1):\n",
    "                rep.append([])\n",
    "                for x in range(y2):\n",
    "                    s = [0, 0]\n",
    "                    pos = 0\n",
    "                    for v in range(y1):\n",
    "                        r = prod(M1[i][v], M2[pos][x])\n",
    "                        s = sum(s, r)\n",
    "                        pos = pos + 1 \n",
    "                    rep[i].append(compl(s))\n",
    "            return rep\n",
    "                \n",
    "        else:\n",
    "            r = \"La multiplicación no es posible\"\n",
    "            return r\n",
    "main19()\n",
    "    \n",
    "    "
   ]
  },
  {
   "cell_type": "code",
   "execution_count": null,
   "metadata": {},
   "outputs": [],
   "source": []
  }
 ],
 "metadata": {
  "kernelspec": {
   "display_name": "Python 3",
   "language": "python",
   "name": "python3"
  },
  "language_info": {
   "codemirror_mode": {
    "name": "ipython",
    "version": 3
   },
   "file_extension": ".py",
   "mimetype": "text/x-python",
   "name": "python",
   "nbconvert_exporter": "python",
   "pygments_lexer": "ipython3",
   "version": "3.7.3"
  }
 },
 "nbformat": 4,
 "nbformat_minor": 2
}
