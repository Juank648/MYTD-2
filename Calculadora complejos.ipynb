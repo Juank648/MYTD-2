{
 "cells": [
  {
   "cell_type": "markdown",
   "metadata": {},
   "source": [
    "# CNYT 2019-2\n",
    "\n",
    "# Librería computación Cuántica"
   ]
  },
  {
   "cell_type": "code",
   "execution_count": 108,
   "metadata": {},
   "outputs": [],
   "source": [
    "import math"
   ]
  },
  {
   "cell_type": "markdown",
   "metadata": {},
   "source": [
    "#### Representación de un numero complejo como vector\n",
    "\n",
    "La funcion vec, recibe un numero complejo y lo devuelve en forma de vector"
   ]
  },
  {
   "cell_type": "code",
   "execution_count": 109,
   "metadata": {},
   "outputs": [],
   "source": [
    "def vec(complejo):\n",
    "    if \"+\" in complejo[1:] or \"-\" in complejo[1:] :\n",
    "        if complejo[0] == \"-\":\n",
    "            L = 1\n",
    "            oper = complejo[1:]\n",
    "        else:\n",
    "            L = 0\n",
    "            oper = complejo[:]\n",
    "        for letra in oper:\n",
    "            if letra == \"+\" or letra == \"-\":\n",
    "                a1 = complejo[:L]\n",
    "                b1 = complejo[L:]\n",
    "                b1 = b1[1:-1]\n",
    "                print(b1)\n",
    "                if b1 == '':\n",
    "                    b1 = 1\n",
    "                \n",
    "                if letra == \"-\":\n",
    "                    r = [int(a1),-int(b1)]\n",
    "                else:\n",
    "                    r = [int(a1),int(b1)]\n",
    "            L += 1\n",
    "            \n",
    "    else:\n",
    "        if \"i\" in complejo:\n",
    "            r = [0, int(complejo[:-1])]\n",
    "        else:\n",
    "            r = [int(complejo), 0]\n",
    "    return r\n",
    "\n"
   ]
  },
  {
   "cell_type": "markdown",
   "metadata": {},
   "source": [
    "#### Representación de un numero complejo como vector\n",
    "\n",
    "La funcion compl, recibe un vector y lo devuelve en forma de numero complejo"
   ]
  },
  {
   "cell_type": "code",
   "execution_count": 110,
   "metadata": {},
   "outputs": [],
   "source": [
    "def compl(v):\n",
    "    if v[0] != 0 and v[1] != 0:\n",
    "        if v[1] < 0:\n",
    "            r = str(v[0]) + str(v[1]) +\"i\"\n",
    "        else:\n",
    "            r = str(v[0]) + \"+\" + str(v[1]) +\"i\"\n",
    "    elif v[0] == 0 and v[1] != 0:\n",
    "        r = str(v[1]) + \"i\"\n",
    "    elif v[0] != 0 and v[1] == 0:\n",
    "        r =  str(v[0])\n",
    "    elif v[0] == 0 and v[1] == 0:\n",
    "        r = str(0)\n",
    "    return r\n"
   ]
  },
  {
   "cell_type": "markdown",
   "metadata": {},
   "source": [
    "## Números complejos"
   ]
  },
  {
   "cell_type": "markdown",
   "metadata": {},
   "source": [
    "### 1.1 Suma\n",
    "\n",
    "A continuación se encuentra la fución sum, cuyo fin es sumar un número complejo m1 (de componente a1 y b1) y un número complejo m2(de componente a2 y b2)"
   ]
  },
  {
   "cell_type": "code",
   "execution_count": 125,
   "metadata": {},
   "outputs": [
    {
     "name": "stdout",
     "output_type": "stream",
     "text": [
      "[-1, -3]\n"
     ]
    }
   ],
   "source": [
    "def main1():\n",
    "    a1 = -3\n",
    "    b1 = 1\n",
    "    a2 = 2\n",
    "    b2 = -4\n",
    "    m1 = [a1, b1]\n",
    "    m2 = [a2, b2]\n",
    "    print(sum(m1, m2))\n",
    "\n",
    "def sum(m1, m2):\n",
    "    r1 = m1[0] + m2[0]\n",
    "    r2 = m1[1] + m2[1]\n",
    "    r = [r1, r2]\n",
    "    return r\n",
    "\n",
    "main1()"
   ]
  },
  {
   "cell_type": "markdown",
   "metadata": {},
   "source": [
    "### 1.2 Producto\n",
    "\n",
    "A continuación se encuentra la fución prod, cuyo fin es multiplicar un número complejo m1 (de componente a1 y b1) y un número complejo m2(de componente a2 y b2)"
   ]
  },
  {
   "cell_type": "code",
   "execution_count": 112,
   "metadata": {},
   "outputs": [
    {
     "name": "stdout",
     "output_type": "stream",
     "text": [
      "Resultado producto: (-5,5)\n"
     ]
    }
   ],
   "source": [
    "def main2():\n",
    "    a1 = -3\n",
    "    b1 = -1\n",
    "    a2 = 1\n",
    "    b2 = -2\n",
    "    m1 = [a1, b1]\n",
    "    m2 = [a2, b2]\n",
    "    print(prod(m1, m2))\n",
    "\n",
    "def prod(m1, m2):\n",
    "    r1 = m1[0] * m2[0] - m1[1] * m2[1]\n",
    "    r2 = m1[0] * m2[1] + m2[0] * m1[1] \n",
    "    r = (\"Resultado producto: \" + \"(\" + str(r1) + \",\" + str(r2) + \")\")\n",
    "    return r\n",
    "\n",
    "main2()"
   ]
  },
  {
   "cell_type": "markdown",
   "metadata": {},
   "source": [
    "### 1.3 Resta\n",
    "\n",
    "A continuación se encuentra la fución subt, cuyo fin es restar un número complejo m1 (de componente a1 y b1) de un número complejo m2(de componente a2 y b2)"
   ]
  },
  {
   "cell_type": "code",
   "execution_count": 113,
   "metadata": {},
   "outputs": [
    {
     "name": "stdout",
     "output_type": "stream",
     "text": [
      "Resultado resta: (-4,1)\n"
     ]
    }
   ],
   "source": [
    "def main3():\n",
    "    a1 = -3\n",
    "    b1 = -1\n",
    "    a2 = 1\n",
    "    b2 = -2\n",
    "    m1 = [a1, b1]\n",
    "    m2 = [a2, b2]\n",
    "    print(subt(m1, m2))\n",
    "\n",
    "def subt(m1, m2):\n",
    "    r1 = m1[0] - m2[0]\n",
    "    r2 = m1[1] - m2[1]\n",
    "    r = (\"Resultado resta: \" + \"(\" + str(r1) + \",\" + str(r2) + \")\")\n",
    "    return r\n",
    "\n",
    "main3()"
   ]
  },
  {
   "cell_type": "markdown",
   "metadata": {},
   "source": [
    "### 1.4 Division\n",
    "\n",
    "A continuación se encuentra la fución div, cuyo fin es dividir un número complejo m1 (de componente a1 y b1) entre un número complejo m2(de componente a2 y b2)"
   ]
  },
  {
   "cell_type": "code",
   "execution_count": 114,
   "metadata": {},
   "outputs": [
    {
     "name": "stdout",
     "output_type": "stream",
     "text": [
      "Resultado división: (-3/2,-3/2)\n"
     ]
    }
   ],
   "source": [
    "def main4():\n",
    "    a1 = 0\n",
    "    b1 = 3\n",
    "    a2 = -1\n",
    "    b2 = -1\n",
    "    m1 = [a1, b1]\n",
    "    m2 = [a2, b2]\n",
    "    print(div(m1, m2))\n",
    "\n",
    "def div(m1 ,m2):\n",
    "    div1 = m1[0] * m2[0] + m1[1] * m2[1]\n",
    "    div2 = m2[0] * m1[1] - m1[0] * m2[1]\n",
    "    divi = m2[0] ** 2 + m2[1] ** 2\n",
    "    r = (\"Resultado división: \" + \"(\" + str(div1) + \"/\" + str(divi) + \",\" + str(div2) + \"/\" + str(divi) + \")\")\n",
    "    return r\n",
    "\n",
    "main4()"
   ]
  },
  {
   "cell_type": "markdown",
   "metadata": {},
   "source": [
    "### 1.5 Módulo\n",
    "\n",
    "A continuación se encuentra la fución modul, cuyo fin es calcular el módulo de un número complejo (de componentes a1 y b1)"
   ]
  },
  {
   "cell_type": "code",
   "execution_count": 115,
   "metadata": {},
   "outputs": [
    {
     "name": "stdout",
     "output_type": "stream",
     "text": [
      "Módulo de (4,-4) es igual a: 5.66\n"
     ]
    }
   ],
   "source": [
    "def main5():\n",
    "    a1 = 4\n",
    "    b1 = -4\n",
    "    print(modul(a1, b1))\n",
    "\n",
    "def modul(a1, b1):\n",
    "    r1 = math.sqrt(a1 ** 2 + b1 ** 2)\n",
    "    r = (\"Módulo de \" + \"(\" + str(a1) + \",\" + str(b1) + \")\" + \" es igual a: \" + str(round(r1,2)))\n",
    "    return r\n",
    "\n",
    "main5()"
   ]
  },
  {
   "cell_type": "markdown",
   "metadata": {},
   "source": [
    "### 1.6 Conjugado\n",
    "\n",
    "A continuación se encuentra la fución conj, cuyo fin es calcular el conjugado de un número complejo (de componentes a1 y b1)"
   ]
  },
  {
   "cell_type": "code",
   "execution_count": 116,
   "metadata": {},
   "outputs": [
    {
     "name": "stdout",
     "output_type": "stream",
     "text": [
      "Conjugado de (3,2) es igual a: (3,-2)\n"
     ]
    }
   ],
   "source": [
    "def main6():\n",
    "    a1 = 3\n",
    "    b1 = 2\n",
    "    print(conj(a1, b1))\n",
    "\n",
    "def conj(a1, b1):\n",
    "    r1 = -b1\n",
    "    r = (\"Conjugado de \" + \"(\" + str(a1) + \",\" + str(b1) + \")\" + \" es igual a: \" + \"(\" + str(a1) + \",\" + str(r1) + \")\")\n",
    "    return r\n",
    "\n",
    "main6()"
   ]
  },
  {
   "cell_type": "markdown",
   "metadata": {},
   "source": [
    "### 1.7.1 Conversión cartesiano a polar\n",
    "\n",
    "A continuación se encuentra la fución pol, cuyo fin es convertir una representación cartesiana (de componentes a y b) a polar"
   ]
  },
  {
   "cell_type": "code",
   "execution_count": 117,
   "metadata": {},
   "outputs": [
    {
     "name": "stdout",
     "output_type": "stream",
     "text": [
      "La representación polar del cartesiano (0,-3) es igual a: (3.0,270)\n"
     ]
    }
   ],
   "source": [
    "def main7():\n",
    "    a = 0\n",
    "    b = -3\n",
    "    print(pol(a, b))\n",
    "    \n",
    "\n",
    "\n",
    "def pol(a, b):\n",
    "    p1 = math.sqrt(a ** 2 + b ** 2)\n",
    "    p = round(p1, 2)\n",
    "    if a >= 0 and b >= 0:\n",
    "        if a == 0:\n",
    "            t = 90\n",
    "        else:\n",
    "            t = (math.atan(b/a) * 180)/math.pi\n",
    "    elif a <= 0 and b >= 0:\n",
    "        t = 180 + (math.atan(b/a) * 180)/math.pi \n",
    "    elif a <= 0 and b <= 0:\n",
    "        if a == 0:\n",
    "            t = 270\n",
    "        else:\n",
    "            t = (math.atan(b/a) * 180)/math.pi + 180\n",
    "    elif a > 0 and b <= 0:\n",
    "        t = (math.atan(b/a) * 180)/math.pi + 360\n",
    "    t1 = round(t, 2)\n",
    "    r = (\"La representación polar del cartesiano \" + \"(\" + str(a) + \",\" + str(b) + \")\" + \" es igual a: \" + \"(\" + str(p) + \",\" + str(t1) + \")\")\n",
    "    return r\n",
    "\n",
    "main7()"
   ]
  },
  {
   "cell_type": "markdown",
   "metadata": {},
   "source": [
    "### 1.7.1 Conversión cartesiano a polar\n",
    "\n",
    "A continuación se encuentra la fución cart, cuyo fin es convertir una representación polar (de componentes a y b) a cartesiana"
   ]
  },
  {
   "cell_type": "markdown",
   "metadata": {},
   "source": [
    "## Operaciones para vectores, matrices"
   ]
  },
  {
   "cell_type": "markdown",
   "metadata": {},
   "source": [
    "### 2.1 Adición de vectores complejos\n",
    "\n",
    "Dado dos vectores v1 y v2, a traves de la función sum(que recibe v1 y v2), obtenemos como resultado la suma de estos dos vectores"
   ]
  },
  {
   "cell_type": "code",
   "execution_count": 118,
   "metadata": {},
   "outputs": [
    {
     "name": "stdout",
     "output_type": "stream",
     "text": [
      "Resultado suma: (5,9)\n"
     ]
    }
   ],
   "source": [
    "def main9():\n",
    "    v1 = [2, 4]\n",
    "    v2 = [3, 5]\n",
    "    print(sum(v1, v2))\n",
    "main9()"
   ]
  },
  {
   "cell_type": "markdown",
   "metadata": {},
   "source": [
    "### 2.2 Inversa de vectores complejos"
   ]
  },
  {
   "cell_type": "code",
   "execution_count": 119,
   "metadata": {},
   "outputs": [
    {
     "name": "stdout",
     "output_type": "stream",
     "text": [
      "[-5, -6]\n"
     ]
    }
   ],
   "source": [
    "def main10():\n",
    "    v = [5, 6]\n",
    "    print(inv(v))\n",
    "\n",
    "def inv(v):\n",
    "    r = [-v[0], -v[1]]\n",
    "    return r\n",
    "\n",
    "\n",
    "main10()"
   ]
  },
  {
   "cell_type": "markdown",
   "metadata": {},
   "source": [
    "### 2.4 Adición de matrices complejos"
   ]
  },
  {
   "cell_type": "code",
   "execution_count": 128,
   "metadata": {},
   "outputs": [
    {
     "name": "stdout",
     "output_type": "stream",
     "text": [
      "Matriz 1\n",
      "Ingrese el numero de filas de la matriz 1 = 2\n",
      "Ingrese el numero de filas de la matriz 1 = 2\n",
      "Ingrese el valor para la posición (en forma de número complejo) 11 = 11+9i\n",
      "9\n",
      "Ingrese el valor para la posición (en forma de número complejo) 12 = 11+9i\n",
      "9\n",
      "Ingrese el valor para la posición (en forma de número complejo) 21 = 11+9i\n",
      "9\n",
      "Ingrese el valor para la posición (en forma de número complejo) 22 = 11+9i\n",
      "9\n",
      "Matriz 2\n",
      "Ingrese el numero de filas de la matriz 2 = 2\n",
      "Ingrese el numero de filas de la matriz 2 = 2\n",
      "Ingrese el valor para la posición (en forma de número complejo) 11 = 11+9i\n",
      "9\n",
      "Ingrese el valor para la posición (en forma de número complejo) 12 = 11+9i\n",
      "9\n",
      "Ingrese el valor para la posición (en forma de número complejo) 21 = 11+9i\n",
      "9\n",
      "Ingrese el valor para la posición (en forma de número complejo) 22 = 11+9i\n",
      "9\n",
      "['22+18i', '22+18i']\n",
      "['22+18i', '22+18i']\n"
     ]
    }
   ],
   "source": [
    "def main11():\n",
    "    print(\"Matriz 1\")\n",
    "    Matriz_1 = [] \n",
    "    No_filas_1 = int(input(\"Ingrese el numero de filas de la matriz 1 = \"))\n",
    "    No_columnas_1 = int(input(\"Ingrese el numero de filas de la matriz 1 = \"))\n",
    "    for x in range(No_filas_1):\n",
    "        Matriz_1.append([])\n",
    "        for y in range(No_columnas_1):\n",
    "            comp = input(\"Ingrese el valor para la posición (en forma de número complejo) \" + str(x + 1) + str(y + 1) + \" = \")\n",
    "            comp1 = vec(comp)\n",
    "            Matriz_1[x].append(comp1)\n",
    "    \n",
    "    print(\"Matriz 2\")\n",
    "    Matriz_2 = [] \n",
    "    No_filas_2 = int(input(\"Ingrese el numero de filas de la matriz 2 = \"))\n",
    "    No_columnas_2 = int(input(\"Ingrese el numero de filas de la matriz 2 = \"))\n",
    "    for x in range(No_filas_2):\n",
    "        Matriz_2.append([])\n",
    "        for y in range(No_columnas_2):\n",
    "            comp = input(\"Ingrese el valor para la posición (en forma de número complejo) \" + str(x + 1) + str(y + 1) + \" = \")\n",
    "            comp1 = vec(comp)\n",
    "            Matriz_2[x].append(comp1)\n",
    "    \n",
    "    r = Sum_M(Matriz_1, Matriz_2)\n",
    "    if r != \"La suma no es posible\":\n",
    "        for x in r:\n",
    "            print(x)\n",
    "    else:\n",
    "        print(r)\n",
    "    \n",
    "    \n",
    "def Sum_M(M1, M2):\n",
    "    if M1 == [] and M2 == []:\n",
    "        r = []\n",
    "    else:\n",
    "        x1 = len(M1)\n",
    "        x2 = len(M2)\n",
    "        y1 = len(M1[0])\n",
    "        y2 = len(M2[0])\n",
    "        if x1 == x2:\n",
    "            if y1 == y2:\n",
    "                Matriz_r = []\n",
    "                for x in range(x1):\n",
    "                    Matriz_r.append([])\n",
    "                    for y in range(y1):\n",
    "                        suma = sum(M1[x][y], M2[x][y])\n",
    "                        Matriz_r[x].append(compl(suma))\n",
    "                return Matriz_r\n",
    "        else:\n",
    "            r = \"La suma no es posible\"\n",
    "                \n",
    "            \n",
    "    \n",
    "\n",
    "            \n",
    "main11()"
   ]
  },
  {
   "cell_type": "markdown",
   "metadata": {},
   "source": []
  }
 ],
 "metadata": {
  "kernelspec": {
   "display_name": "Python 3",
   "language": "python",
   "name": "python3"
  },
  "language_info": {
   "codemirror_mode": {
    "name": "ipython",
    "version": 3
   },
   "file_extension": ".py",
   "mimetype": "text/x-python",
   "name": "python",
   "nbconvert_exporter": "python",
   "pygments_lexer": "ipython3",
   "version": "3.7.3"
  }
 },
 "nbformat": 4,
 "nbformat_minor": 2
}
