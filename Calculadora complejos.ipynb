{
 "cells": [
  {
   "cell_type": "markdown",
   "metadata": {},
   "source": [
    "1.1 Suma\n",
    "\n",
    "A continuación se encuentra la fución sum, cuyo fin es sumar un número complejo m1 (de componente a1 y b1) y un número complejo m2(de componente a2 y b2)"
   ]
  },
  {
   "cell_type": "code",
   "execution_count": 8,
   "metadata": {},
   "outputs": [
    {
     "name": "stdout",
     "output_type": "stream",
     "text": [
      "Resultado suma: (-1,-3)\n"
     ]
    }
   ],
   "source": [
    "def main():\n",
    "    a1 = -3\n",
    "    b1 = 1\n",
    "    a2 = 2\n",
    "    b2 = -4\n",
    "    m1 = [a1, b1]\n",
    "    m2 = [a2, b2]\n",
    "    print(sum(m1, m2))\n",
    "\n",
    "def sum(m1, m2):\n",
    "    r1 = m1[0] + m2[0]\n",
    "    r2 = m1[1] + m2[1]\n",
    "    r = (\"Resultado suma: \" + \"(\" + str(r1) + \",\" + str(r2) + \")\")\n",
    "    return r\n",
    "\n",
    "main()"
   ]
  },
  {
   "cell_type": "markdown",
   "metadata": {},
   "source": [
    "1.2 Producto\n",
    "\n",
    "A continuación se encuentra la fución prod, cuyo fin es multiplicar un número complejo m1 (de componente a1 y b1) y un número complejo m2(de componente a2 y b2)"
   ]
  },
  {
   "cell_type": "code",
   "execution_count": 11,
   "metadata": {},
   "outputs": [
    {
     "name": "stdout",
     "output_type": "stream",
     "text": [
      "Resultado producto: (-5,5)\n"
     ]
    }
   ],
   "source": [
    "def main():\n",
    "    a1 = -3\n",
    "    b1 = -1\n",
    "    a2 = 1\n",
    "    b2 = -2\n",
    "    m1 = [a1, b1]\n",
    "    m2 = [a2, b2]\n",
    "    print(prod(m1, m2))\n",
    "\n",
    "def prod(m1, m2):\n",
    "    r1 = m1[0] * m2[0] - m1[1] * m2[1]\n",
    "    r2 = m1[0] * m2[1] + m2[0] * m1[1] \n",
    "    r = (\"Resultado producto: \" + \"(\" + str(r1) + \",\" + str(r2) + \")\")\n",
    "    return r\n",
    "\n",
    "main()"
   ]
  },
  {
   "cell_type": "markdown",
   "metadata": {},
   "source": [
    "1.3 Resta\n",
    "\n",
    "A continuación se encuentra la fución subt, cuyo fin es restar un número complejo m1 (de componente a1 y b1) de un número complejo m2(de componente a2 y b2)"
   ]
  },
  {
   "cell_type": "code",
   "execution_count": 10,
   "metadata": {},
   "outputs": [
    {
     "name": "stdout",
     "output_type": "stream",
     "text": [
      "Resultado resta: (-4,1)\n"
     ]
    }
   ],
   "source": [
    "def main():\n",
    "    a1 = -3\n",
    "    b1 = -1\n",
    "    a2 = 1\n",
    "    b2 = -2\n",
    "    m1 = [a1, b1]\n",
    "    m2 = [a2, b2]\n",
    "    print(subt(m1, m2))\n",
    "\n",
    "def subt(m1, m2):\n",
    "    r1 = m1[0] - m2[0]\n",
    "    r2 = m1[1] - m2[1]\n",
    "    r = (\"Resultado resta: \" + \"(\" + str(r1) + \",\" + str(r2) + \")\")\n",
    "    return r\n",
    "\n",
    "main()"
   ]
  },
  {
   "cell_type": "markdown",
   "metadata": {},
   "source": [
    "1.4 Division\n",
    "\n",
    "A continuación se encuentra la fución div, cuyo fin es dividir un número complejo m1 (de componente a1 y b1) entre un número complejo m2(de componente a2 y b2)"
   ]
  },
  {
   "cell_type": "code",
   "execution_count": 17,
   "metadata": {},
   "outputs": [
    {
     "name": "stdout",
     "output_type": "stream",
     "text": [
      "Resultado división: (-3/2,-3/2)\n"
     ]
    }
   ],
   "source": [
    "def main():\n",
    "    a1 = 0\n",
    "    b1 = 3\n",
    "    a2 = -1\n",
    "    b2 = -1\n",
    "    m1 = [a1, b1]\n",
    "    m2 = [a2, b2]\n",
    "    print(div(m1, m2))\n",
    "\n",
    "def div(m1 ,m2):\n",
    "    div1 = m1[0] * m2[0] + m1[1] * m2[1]\n",
    "    div2 = m2[0] * m1[1] - m1[0] * m2[1]\n",
    "    divi = m2[0] ** 2 + m2[1] ** 2\n",
    "    r = (\"Resultado división: \" + \"(\" + str(div1) + \"/\" + str(divi) + \",\" + str(div2) + \"/\" + str(divi) + \")\")\n",
    "    return r\n",
    "\n",
    "main()"
   ]
  },
  {
   "cell_type": "markdown",
   "metadata": {},
   "source": [
    "1.5 Módulo\n",
    "\n",
    "A continuación se encuentra la fución modul, cuyo fin es calcular el módulo de un número complejo (de componentes a1 y b1)"
   ]
  },
  {
   "cell_type": "code",
   "execution_count": 23,
   "metadata": {},
   "outputs": [
    {
     "name": "stdout",
     "output_type": "stream",
     "text": [
      "Módulo de (4,-4) es igual a: 5.66\n"
     ]
    }
   ],
   "source": [
    "import math\n",
    "def main():\n",
    "    a1 = 4\n",
    "    b1 = -4\n",
    "    print(modul(a1, b1))\n",
    "\n",
    "def modul(a1, b1):\n",
    "    r1 = math.sqrt(a1 ** 2 + b1 ** 2)\n",
    "    r = (\"Módulo de \" + \"(\" + str(a1) + \",\" + str(b1) + \")\" + \" es igual a: \" + str(round(r1,2)))\n",
    "    return r\n",
    "\n",
    "main()"
   ]
  },
  {
   "cell_type": "markdown",
   "metadata": {},
   "source": [
    "1.6 Conjugado\n",
    "\n",
    "A continuación se encuentra la fución conj, cuyo fin es calcular el conjugado de un número complejo (de componentes a1 y b1)"
   ]
  },
  {
   "cell_type": "code",
   "execution_count": 28,
   "metadata": {},
   "outputs": [
    {
     "name": "stdout",
     "output_type": "stream",
     "text": [
      "Conjugado de (3,2) es igual a: (3,-2)\n"
     ]
    }
   ],
   "source": [
    "def main():\n",
    "    a1 = 3\n",
    "    b1 = 2\n",
    "    print(conj(a1, b1))\n",
    "\n",
    "def conj(a1, b1):\n",
    "    r1 = -b1\n",
    "    r = (\"Conjugado de \" + \"(\" + str(a1) + \",\" + str(b1) + \")\" + \" es igual a: \" + \"(\" + str(a1) + \",\" + str(r1) + \")\")\n",
    "    return r\n",
    "\n",
    "main()"
   ]
  },
  {
   "cell_type": "markdown",
   "metadata": {},
   "source": [
    "1.7.1 Conersión cartesiano a polar\n",
    "\n",
    "A continuación se encuentra la fución pol, cuyo fin es convertir una representación cartesiana (de componentes a y b) a polar"
   ]
  },
  {
   "cell_type": "code",
   "execution_count": 29,
   "metadata": {},
   "outputs": [
    {
     "name": "stdout",
     "output_type": "stream",
     "text": [
      "La representación polar del cartesiano (3,2) es igual a: (3.61,33.69)\n"
     ]
    }
   ],
   "source": [
    "import math\n",
    "def main():\n",
    "    a = 3\n",
    "    b = 2\n",
    "    print(pol(a, b))\n",
    "\n",
    "def pol(a, b):\n",
    "    p1 = math.sqrt(a ** 2 + b ** 2)\n",
    "    p = round(p1, 2)\n",
    "    if a >= 0 and b >= 0:\n",
    "        t = (math.atan(b/a) * 180)/math.pi\n",
    "    elif a <= 0 and b >= 0:\n",
    "        t = (math.atan(b/a) * 180)/math.pi + 90\n",
    "    elif a <= 0 and b <= 0:\n",
    "        t = (math.atan(b/a) * 180)/math.pi + 180\n",
    "    elif a >= 0 and b <= 0:\n",
    "        t = (math.atan(b/a) * 180)/math.pi + 270\n",
    "    t1 = round(t, 2)\n",
    "    r = (\"La representación polar del cartesiano \" + \"(\" + str(a) + \",\" + str(b) + \")\" + \" es igual a: \" + \"(\" + str(p) + \",\" + str(t1) + \")\")\n",
    "    return r\n",
    "\n",
    "main()"
   ]
  },
  {
   "cell_type": "code",
   "execution_count": null,
   "metadata": {},
   "outputs": [],
   "source": []
  }
 ],
 "metadata": {
  "kernelspec": {
   "display_name": "Python 3",
   "language": "python",
   "name": "python3"
  },
  "language_info": {
   "codemirror_mode": {
    "name": "ipython",
    "version": 3
   },
   "file_extension": ".py",
   "mimetype": "text/x-python",
   "name": "python",
   "nbconvert_exporter": "python",
   "pygments_lexer": "ipython3",
   "version": "3.7.3"
  }
 },
 "nbformat": 4,
 "nbformat_minor": 2
}
